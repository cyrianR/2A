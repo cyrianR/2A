{
 "cells": [
  {
   "cell_type": "markdown",
   "id": "9f956d9b-4aaa-4c81-8a5e-bc7392f495c3",
   "metadata": {
    "kernel": "SoS"
   },
   "source": [
    "<div style=\"background-color: #e6e6fa; padding: 20px; border-radius: 10px; border: 1px solid #9370db; font-family: 'Arial', sans-serif; line-height: 1.6;\">\n",
    "\n",
    "<div style=\"text-align: center;\">\n",
    "    <h1><span style=\"color: #4b0082;\">TP1 - Connexité, Matrices d’adjacence d’un graphe</span></h1>\n",
    "    <h2><span style=\"color: #483d8b;\">Objectifs: Manipuler les matrices d’adjacence</span></h2>\n",
    "</div>\n",
    "\n",
    "<p style=\"text-align: justify; font-size: 16px; color: #6a5acd;\">\n",
    "Le TP possède 5 exercices. Il y a plusieurs type de cellules dans ce document :\n",
    "    <br>- Des cellules de questions (en bleu)\n",
    "    <br>- Des cellules de rappel de cours (en vert), vous n'êtes pas obligés de les regarder, elles sont là pour vous remettre le cours en tête si jamais vous en avez besoin\n",
    "    <br>- Des cellules où l'on vous demande juste de lancer le code et de visualiser (en rouge)\n",
    "<br>Pour les codes, vous pouvez regarder au début de la cellule, \"%A faire\" indique que vous devez compléter le code \"%Visualisation\" qu'il faut lancer le code pour obtenir une représentation graphique et \"%Test\" est là pour indiquer que votre fonction sera testée.\n",
    "<br> Dans certaines questions, il vous est demandé de créer des fonctions matlab. Dans les autres questions du sujet ça n'est pas vos fonctions qui sont utilisées (cela vous permet de tout de même continuer le sujet si jamais vous n'arrivez pas à faire les fonctions).\n",
    "<br> Pour les vidéos, si vous voulez les modifier il faudra relancer le code matlab puis dans la cellule contenant la vidéo vous pouvez écrire n'importe quoi en dehors de la balise \"video\" et relancer la cellule (ça permet de la forcer à retourner chercher la nouvelle vidéo que vous avez généré)\n",
    "</p>\n",
    "\n",
    "<p style=\"text-align: justify; font-size: 16px; color: #6a5acd;\">\n",
    "On suppose <i>N</i> villes avec une matrice des distances donnée. Deux villes sont reliées par voie radio si elles sont éloignées de moins de <i>d</i> kms.\n",
    "</p>\n",
    "\n",
    "</div>"
   ]
  },
  {
   "cell_type": "code",
   "execution_count": 2,
   "id": "a6ab63c0-7b84-490f-961b-fe232bbbfd01",
   "metadata": {
    "kernel": "MATLAB Kernel"
   },
   "outputs": [
    {
     "data": {
      "text/html": [
       "<html><body><pre>cities = 1x27 cell array\n",
       "  Columns 1 through 5\n",
       "\n",
       "    {'Amsterdam'}    {'Andorra'}    {'Ankara'}    {'Athens'}    {'Berlin'}\n",
       "\n",
       "  Columns 6 through 10\n",
       "\n",
       "    {'Bern'}    {'Brussels'}    {'Copenhagen'}    {'Dublin'}    {'Helsinki'}\n",
       "\n",
       "  Columns 11 through 15\n",
       "\n",
       "    {'Kiev'}    {'Lisbon'}    {'London'}    {'Madrid'}    {'Minsk'}\n",
       "\n",
       "  Columns 16 through 20\n",
       "\n",
       "    {'Moscow'}    {'Oslo'}    {'Paris'}    {'Prague'}    {'Reykjavík'}\n",
       "\n",
       "  Columns 21 through 25\n",
       "\n",
       "    {'Rome'}    {'Sofia'}    {'Stockholm'}    {'Vienna'}    {'Warsaw'}\n",
       "\n",
       "  Columns 26 through 27\n",
       "\n",
       "    {'Zagreb'}    {'Torshavn'}\n",
       "</pre></body></html>"
      ],
      "text/plain": [
       "cities = 1x27 cell array\n",
       "  Columns 1 through 5\n",
       "\n",
       "    {'Amsterdam'}    {'Andorra'}    {'Ankara'}    {'Athens'}    {'Berlin'}\n",
       "\n",
       "  Columns 6 through 10\n",
       "\n",
       "    {'Bern'}    {'Brussels'}    {'Copenhagen'}    {'Dublin'}    {'Helsinki'}\n",
       "\n",
       "  Columns 11 through 15\n",
       "\n",
       "    {'Kiev'}    {'Lisbon'}    {'London'}    {'Madrid'}    {'Minsk'}\n",
       "\n",
       "  Columns 16 through 20\n",
       "\n",
       "    {'Moscow'}    {'Oslo'}    {'Paris'}    {'Prague'}    {'Reykjavík'}\n",
       "\n",
       "  Columns 21 through 25\n",
       "\n",
       "    {'Rome'}    {'Sofia'}    {'Stockholm'}    {'Vienna'}    {'Warsaw'}\n",
       "\n",
       "  Columns 26 through 27\n",
       "\n",
       "    {'Zagreb'}    {'Torshavn'}\n"
      ]
     },
     "execution_count": 2,
     "metadata": {},
     "output_type": "execute_result"
    }
   ],
   "source": [
    "%%%%% SET ENV %%%%%\n",
    "\n",
    "addpath('matlab_bgl');      %load graph libraries\n",
    "addpath('matlab_tpgraphe'); %load tp ressources\n",
    "addpath('matlab_func'); %load tp ressources\n",
    "\n",
    "temp_folder ='donnees/temp';\n",
    "constant_folder = 'donnees/constant';\n",
    "\n",
    "D_mat = fullfile(constant_folder, 'graph.mat'); \n",
    "pos_mat = fullfile(constant_folder, 'position.mat'); \n",
    "nodename_mat = fullfile(constant_folder, 'nodename.mat');\n",
    "\n",
    "load TPgraphe.mat;          %load data\n",
    "\n",
    "save(D_mat, 'D');\n",
    "save(pos_mat, 'pos');\n",
    "save(nodename_mat, 'cities');\n",
    "\n",
    "%%%%%% DISPLAY INPUT DATA ON TERMINAL %%%%%\n",
    "\n",
    "%cities %names of cities\n",
    "%D      %distance matrix bw cities\n",
    "%pos    %x-y pos of the cities"
   ]
  },
  {
   "cell_type": "markdown",
   "id": "b810168a-794b-47c8-bd37-30b3fede7c5e",
   "metadata": {
    "kernel": "SoS"
   },
   "source": [
    "<div style=\"background-color: #f0f8ff; padding: 20px; border-radius: 10px; border: 1px solid #87cefa; font-family: 'Arial', sans-serif; line-height: 1.6;\">\n",
    "<div style=\"text-align: center;\">\n",
    "    <h1><span style=\"color: #30588e;\">Exercice 1</span></h1>\n",
    "</div>\n",
    "</div>"
   ]
  },
  {
   "cell_type": "markdown",
   "id": "893e311b-3402-4260-83cd-089fc1d2e311",
   "metadata": {
    "kernel": "SoS"
   },
   "source": [
    "<div style=\"background-color: #f0f8ff; padding: 20px; border-radius: 10px; border: 1px solid #87cefa; font-family: 'Arial', sans-serif; line-height: 1.6;\">\n",
    "\n",
    "<p style=\"text-align: justify; font-size: 16px; color: #4682b4;\">\n",
    "<b>Q1)</b> Modéliser le graphe <i>A</i>, représentant la connectivité entre les villes pour une portée radio de 500km.\n",
    "</p>\n",
    "\n",
    "<p style=\"text-align: justify; font-size: 16px; color: #4682b4;\">\n",
    "La fonction <code style=\"color: #ff4500;\">viz_adj(D, A, pos, cities)</code> permet d’afficher le graphe <i>A</i>.\n",
    "</p>\n",
    "\n",
    "</div>"
   ]
  },
  {
   "cell_type": "code",
   "execution_count": 9,
   "id": "b5cf48d1-9ced-4c0f-9cd2-dccc2662e7ca",
   "metadata": {
    "kernel": "SoS"
   },
   "outputs": [],
   "source": [
    "d = 500;\n",
    "A = (D <= d) & (D > 0); %adj matrix"
   ]
  },
  {
   "cell_type": "code",
   "execution_count": 17,
   "id": "97fdd551-3251-4f4f-a5d9-34895e94cf45",
   "metadata": {
    "kernel": "SoS"
   },
   "outputs": [
    {
     "data": {
      "image/png": "[encoded data removed]"
     },
     "execution_count": 17,
     "metadata": {},
     "output_type": "execute_result"
    },
    {
     "name": "stdout",
     "output_type": "stream",
     "text": [
      "Terminé\n"
     ]
    }
   ],
   "source": [
    "%Visualisation, attendez que ça soit fini avant de lancer la cellule suivante\n",
    "\n",
    "A_mat = fullfile(temp_folder, 'adj_matrix.mat'); \n",
    "adj = A;\n",
    "save(A_mat, 'adj');\n",
    "[status, cmdout] = system('manim -qh ./animation/graph_visualization.py GraphVisualization');\n",
    "%Visualisation sur matlab\n",
    "viz_adj(D,A,pos,cities);\n",
    "disp('Terminé')"
   ]
  },
  {
   "cell_type": "markdown",
   "id": "afb3b407-49ca-4fb0-bbea-df8bc7482843",
   "metadata": {},
   "source": [
    "<video controls src=\"media/videos/graph_visualization/1080p60/GraphVisualization.mp4\" width=\"1080\">\n",
    "</video>"
   ]
  },
  {
   "cell_type": "markdown",
   "id": "1685d678-547d-4993-9cbd-f0542d5a3de3",
   "metadata": {
    "kernel": "SoS"
   },
   "source": [
    "<div style=\"background-color: #c8e6c9; padding: 20px; border-radius: 10px; border: 1px solid #388e3c; font-family: 'Arial', sans-serif; line-height: 1.6;\">\n",
    "\n",
    "<p style=\"text-align: justify; font-size: 16px; color: #2e7d32;\">\n",
    "    La fonction <code style=\"color: #ff4500;\">graphPower(G, n)</code> calcule de façon itérative la fermeture transitive.\n",
    "    <br><b>Rappel </b>\n",
    "    <details>\n",
    "        <summary></summary>\n",
    "        La fermeture transitive d'un graphe <i>G(X, A)</i> est la relation transitive minimale contenant la relation <i>(X, A)</i>.\n",
    "        Il s'agit d'un graphe <i>G*=(X, *)</i> tel que <i>(x, y) ∈*</i> si et seulement s'il existe un chemin <i>f</i> dans <i>G</i> d'origine <i>x</i> et d'extrémité <i>y</i>.\n",
    "        <br><br>\n",
    "        La fonction <code style=\"color: #ff4500;\">graphPower(G, n)</code> calcule de façon itérative la fermeture transitive. Cette matrice indique la présence de chemins de longueur ≤n. Ainsi on a par exemple <code style=\"color: #ff4500;\">graphPower(A, 5)</code> qui renvoie la matrice qui indique la présence de chemins de longueur ≤5 dans le graphe G de matrice d'adjacence A.\n",
    "    </details>\n",
    "</p>\n",
    "\n",
    "</div>\n"
   ]
  },
  {
   "cell_type": "markdown",
   "id": "9a681426-a220-4e52-8698-1352294d4848",
   "metadata": {
    "kernel": "SoS"
   },
   "source": [
    "<div style=\"background-color: #f0f8ff; padding: 20px; border-radius: 10px; border: 1px solid #87cefa; font-family: 'Arial', sans-serif; line-height: 1.6;\">\n",
    "\n",
    "<p style=\"text-align: justify; font-size: 16px; color: #4682b4;\">\n",
    "<b>Q2)</b> Créer les matrices de présence de chemins de longueur respectivement inférieurs à 2, 3, 10 et 12.\n",
    "</p>\n",
    "\n",
    "</div>"
   ]
  },
  {
   "cell_type": "code",
   "execution_count": 11,
   "id": "990b2c8d-d98c-4957-a9ef-76afc03f5ed0",
   "metadata": {
    "kernel": "SoS"
   },
   "outputs": [],
   "source": [
    "%A faire\n",
    "A_deux = graphPower(A, 2);\n",
    "A_trois = graphPower(A, 3);\n",
    "A_dix = graphPower(A, 10);\n",
    "A_douze = graphPower(A, 12);"
   ]
  },
  {
   "cell_type": "markdown",
   "id": "9c14825d-4410-4260-837c-127499860422",
   "metadata": {
    "kernel": "SoS"
   },
   "source": [
    "<div style=\"background-color: #ffe0e0; padding: 20px; border-radius: 10px; border: 1px solid #fa8787; font-family: 'Arial', sans-serif; line-height: 1.6;\">\n",
    "\n",
    "<p style=\"text-align: justify; font-size: 16px; color: #b44242;\">\n",
    "Visualisez les graphes correspondants aux matrices A_deux, A_trois, A_dix et A_douze.\n",
    "</p>\n",
    "\n",
    "</div>"
   ]
  },
  {
   "cell_type": "code",
   "execution_count": 21,
   "id": "a8dd879f-d777-48ca-a2c8-afa8d809332f",
   "metadata": {
    "kernel": "SoS"
   },
   "outputs": [
    {
     "data": {
      "image/png": "[encoded data removed]"
     },
     "execution_count": 21,
     "metadata": {},
     "output_type": "execute_result"
    },
    {
     "name": "stdout",
     "output_type": "stream",
     "text": [
      "Terminé\n"
     ]
    }
   ],
   "source": [
    "%Vous pouvez remplacer A_deux par A_trois, A_dix ou A_douze si vous voulez aussi visualiser ces matrices\n",
    "adj = A_douze;\n",
    "\n",
    "%Visualisation sur matlab\n",
    "viz_adj(D,adj,pos,cities);\n",
    "\n",
    "%Visualisation\n",
    "A_mat = fullfile(temp_folder, 'adj_matrix.mat'); \n",
    "save(A_mat, 'adj');\n",
    "[status, cmdout] = system('manim -qh ./animation/graph_visualization.py GraphVisualization');\n",
    "%Visualisation sur matlab\n",
    "%viz_adj(D,adj,pos,cities);\n",
    "disp('Terminé')"
   ]
  },
  {
   "cell_type": "markdown",
   "id": "3396f4a9-cb46-4e6c-a095-2aeb764460af",
   "metadata": {},
   "source": [
    "<video controls src=\"media/videos/graph_visualization/1080p60/GraphVisualization.mp4\" width=\"1080\">\n",
    "</video>"
   ]
  },
  {
   "cell_type": "markdown",
   "id": "9192729c-4a5c-4d00-8c9f-2c967fceeb2c",
   "metadata": {
    "kernel": "SoS"
   },
   "source": [
    "<div style=\"background-color: #f0f8ff; padding: 20px; border-radius: 10px; border: 1px solid #87cefa; font-family: 'Arial', sans-serif; line-height: 1.6;\">\n",
    "\n",
    "<p style=\"text-align: justify; font-size: 16px; color: #4682b4;\">\n",
    "<b>Q3)</b> Que constatez-vous ? Expliquer.\n",
    "</p>\n",
    "\n",
    "</div>"
   ]
  },
  {
   "cell_type": "markdown",
   "id": "d4b6ff97-b1e0-4bd2-aa59-c0335953e6b2",
   "metadata": {
    "kernel": "SoS"
   },
   "source": []
  },
  {
   "cell_type": "markdown",
   "id": "b3af28fc-192d-4f78-80f8-6ce310196e60",
   "metadata": {
    "kernel": "SoS"
   },
   "source": [
    "<div style=\"background-color: #f0f8ff; padding: 20px; border-radius: 10px; border: 1px solid #87cefa; font-family: 'Arial', sans-serif; line-height: 1.6;\">\n",
    "    \n",
    "<div style=\"text-align: center;\">\n",
    "    <h1><span style=\"color: #30588e;\">Exercice 2</span></h1>\n",
    "</div>\n",
    "<p style=\"text-align: justify; font-size: 16px; color: #4682b4;\">\n",
    "On cherche à déterminer pour ces villes des chemins d'interconnexions.\n",
    "</p>\n",
    "</div>"
   ]
  },
  {
   "cell_type": "markdown",
   "id": "7b0be294-727a-44b6-a76f-d741ed99c87d",
   "metadata": {
    "kernel": "SoS"
   },
   "source": [
    "<div style=\"background-color: #f0f8ff; padding: 20px; border-radius: 10px; border: 1px solid #87cefa; font-family: 'Arial', sans-serif; line-height: 1.6;\">\n",
    "<p style=\"text-align: justify; font-size: 16px; color: #4682b4;\">\n",
    "<b>Q1)</b> Créez une matrice qui pour chaque couple de villes indique si il existe un chemin d'interconnexions de 3 sauts exactement entre ces deux villes. \n",
    "    <br>On pourra utiliser <code style=\"color: #ff4500;\">bmul(A,B)</code> pour la multiplication booléenne de matrices. (il existe d'autres façon d'arriver au résultat sans utiliser <code style=\"color: #ff4500;\">bmul(A,B)</code> cependant)\n",
    "</p>\n",
    "</div>"
   ]
  },
  {
   "cell_type": "code",
   "execution_count": null,
   "id": "fa5ded13-a8b1-4682-b015-8c59701ff690",
   "metadata": {
    "kernel": "SoS"
   },
   "outputs": [],
   "source": [
    "%A faire\n",
    "A_trois_existe = XXX;"
   ]
  },
  {
   "cell_type": "code",
   "execution_count": null,
   "id": "0520622e-a6ee-47a7-a71f-f0055be182a6",
   "metadata": {
    "kernel": "SoS"
   },
   "outputs": [],
   "source": [
    "adj = A_trois_existe;\n",
    "\n",
    "%Visualisation sur matlab\n",
    "%viz_adj(D,adj,pos,cities);\n",
    "\n",
    "%Visualisation\n",
    "A_mat = fullfile(temp_folder, 'adj_matrix.mat'); \n",
    "save(A_mat, 'adj');\n",
    "[status, cmdout] = system('manim -qh ./animation/graph_visualization.py GraphVisualization');\n",
    "%Visualisation sur matlab\n",
    "%viz_adj(D,adj,pos,cities);\n",
    "disp('Terminé')"
   ]
  },
  {
   "cell_type": "markdown",
   "id": "be7b072c-88bd-4f6a-b481-0f8f6762450c",
   "metadata": {},
   "source": [
    "<video controls src=\"animation/media/videos/graph_visualization/1080p60/GraphVisualization.mp4\" width=\"1080\">\n",
    "</video>"
   ]
  },
  {
   "cell_type": "markdown",
   "id": "8aa1186a-12bc-471c-823b-065abfce32bc",
   "metadata": {
    "kernel": "SoS"
   },
   "source": [
    "<div style=\"background-color: #f0f8ff; padding: 20px; border-radius: 10px; border: 1px solid #87cefa; font-family: 'Arial', sans-serif; line-height: 1.6;\">\n",
    "<p style=\"text-align: justify; font-size: 16px; color: #4682b4;\">\n",
    "<b>Q2)</b>Calculez le nombre total de chemins d'interconnexions de 3 sauts exactement entre les villes. \n",
    "</p>\n",
    "</div>"
   ]
  },
  {
   "cell_type": "code",
   "execution_count": null,
   "id": "89ebb0e2-698f-4802-9c8e-c60779f45fd2",
   "metadata": {
    "kernel": "SoS"
   },
   "outputs": [],
   "source": [
    "%A faire\n",
    "A_trois_combien = XXX"
   ]
  },
  {
   "cell_type": "markdown",
   "id": "1a01aaa5-9a5d-41a4-9407-297ea1d2b5e3",
   "metadata": {
    "kernel": "SoS"
   },
   "source": [
    "<div style=\"background-color: #f0f8ff; padding: 20px; border-radius: 10px; border: 1px solid #87cefa; font-family: 'Arial', sans-serif; line-height: 1.6;\">\n",
    "<p style=\"text-align: justify; font-size: 16px; color: #4682b4;\">\n",
    "<b>Q3)</b>Calculez le nombre total de chemins d'interconnexions de 3 sauts ou moins entre les villes. \n",
    "</p>\n",
    "</div>"
   ]
  },
  {
   "cell_type": "code",
   "execution_count": null,
   "id": "e2ed8c4e-0042-497e-83df-50ab1c66e1a6",
   "metadata": {
    "kernel": "SoS"
   },
   "outputs": [],
   "source": [
    "%A faire\n",
    "A_moins_trois = XXX"
   ]
  },
  {
   "cell_type": "markdown",
   "id": "3ef539f8-9bf6-4a4a-b8f7-a8110768802c",
   "metadata": {
    "kernel": "SoS"
   },
   "source": [
    "<div style=\"background-color: #f0f8ff; padding: 20px; border-radius: 10px; border: 1px solid #87cefa; font-family: 'Arial', sans-serif; line-height: 1.6;\">\n",
    "\n",
    "<div style=\"text-align: center;\">\n",
    "    <h1><span style=\"color: #30588e;\">Exercice 3</span></h1>\n",
    "</div>\n",
    "<p style=\"text-align: justify; font-size: 16px; color: #4682b4;\">\n",
    "L'objectif de cet exercice est d'étudier les chaînes du graphe. On stocke une chaîne <i>c</i> comme une suite de sommets (vecteur d’indices des sommets).\n",
    "</p>\n",
    "\n",
    "</div>"
   ]
  },
  {
   "cell_type": "markdown",
   "id": "00e4787e-5011-4e0f-b46a-5f06eaf2562d",
   "metadata": {
    "kernel": "SoS"
   },
   "source": [
    "<div style=\"background-color: #f0f8ff; padding: 20px; border-radius: 10px; border: 1px solid #87cefa; font-family: 'Arial', sans-serif; line-height: 1.6;\">\n",
    "\n",
    "<p style=\"text-align: justify; font-size: 16px; color: #4682b4;\">\n",
    "<b>Q1)</b> Quelles sont les conditions sur les paires successives des sommets d’une chaîne pour que celle-ci appartienne au graphe ?\n",
    "</p>\n",
    "\n",
    "</div>"
   ]
  },
  {
   "cell_type": "markdown",
   "id": "895dc79a-8afe-4ad5-8e02-29185af463b3",
   "metadata": {
    "kernel": "SoS"
   },
   "source": [
    "En théorie des graphes, une chaîne (ou chemin) est une séquence de sommets où chaque sommet est relié au suivant par une arête. Pour qu'une chaîne appartienne à un graphe donné, certaines conditions doivent être remplies concernant les paires successives de sommets de cette chaîne.\n",
    "\n",
    "Voici les conditions nécessaires :\n",
    "\n",
    "1. **Adjacence des sommets successifs** :\n",
    "    - Pour chaque paire successive de sommets $(v_i, v_{i+1})$ dans la chaîne, il doit exister une arête dans le graphe qui relie \\(v_i\\) à \\(v_{i+1}\\).\n",
    "    - En termes mathématiques, pour une chaîne \\(C = (v_1, v_2, v_3, \\ldots, v_k)\\), il faut que pour chaque \\(i\\) tel que \\(1 \\leq i < k\\), \\((v_i, v_{i+1})\\) soit une arête dans le graphe, noté \\((v_i, v_{i+1}) \\in E\\), où \\(E\\) est l'ensemble des arêtes du graphe.\n",
    "\n",
    "2. **Présence des sommets dans le graphe** :\n",
    "    - Tous les sommets \\(v_i\\) de la chaîne doivent appartenir à l'ensemble des sommets du graphe, noté \\(V\\). En d'autres termes, chaque sommet \\(v_i\\) de la chaîne doit être un élément de \\(V\\), l'ensemble des sommets du graphe.\n",
    "\n",
    "En résumé, une chaîne \\((v_1, v_2, \\ldots, v_k)\\) appartient à un graphe \\(G = (V, E)\\) si et seulement si :\n",
    "- \\(v_i \\in V\\) pour tout \\(i \\in \\{1, 2, \\ldots, k\\}\\),\n",
    "- \\((v_i, v_{i+1}) \\in E\\) pour tout \\(i \\in \\{1, 2, \\ldots, k-1\\}\\).\n",
    "\n",
    "Ainsi, la vérification de l'appartenance d'une chaîne à un graphe repose sur la vérification de l'existence des sommets dans \\(V\\) et des arêtes correspondantes dans \\(E\\)."
   ]
  },
  {
   "cell_type": "markdown",
   "id": "c49cc71d-7473-4a9c-9c64-b30ae1d69015",
   "metadata": {
    "kernel": "SoS"
   },
   "source": [
    "<div style=\"background-color: #f0f8ff; padding: 20px; border-radius: 10px; border: 1px solid #87cefa; font-family: 'Arial', sans-serif; line-height: 1.6;\">\n",
    "\n",
    "<p style=\"text-align: justify; font-size: 16px; color: #4682b4;\">\n",
    "<b>Q2)</b> Écrire la fonction <code style=\"color: #ff4500;\">possedechaine(A, chaîne)</code> qui permet de déterminer si une chaîne donnée appartient à un graphe <i>G</i> de matrice d'adjacence <i>A</i>.\n",
    "</p>\n",
    "\n",
    "</div>"
   ]
  },
  {
   "cell_type": "code",
   "execution_count": null,
   "id": "478c82fe-ac53-453c-a76a-67cd81b649ce",
   "metadata": {
    "kernel": "SoS"
   },
   "outputs": [],
   "source": [
    "%A faire\n",
    "\n",
    "%Les tests sont valides uniquement pour d=500\n",
    "tester_possedechaine(A);\n",
    "function chain_exists = possedechaine(G, c)\n",
    "    % POSSEDECHAINE Vérifie si une chaîne est présente dans le graphe\n",
    "    % G est la matrice d'adjacence\n",
    "    % c est le vecteur représentant la chaîne\n",
    "    % La fonction retourne true si la chaîne est présente, sinon false\n",
    "    \n",
    "    chain_exists = false;\n",
    "end\n",
    "\n",
    "%Test\n",
    "function tester_possedechaine(A)\n",
    "    % TESTER_POSSEDECHAINE Fonction pour valider la fonction possedechaine\n",
    "    % Cette fonction charge les chaînes et les valeurs de vérité, exécute possedechaine pour\n",
    "    % chaque chaîne, et utilise assert pour valider si les résultats sont conformes aux attentes.\n",
    "\n",
    "    % Chemin vers le dossier contenant les chaînes\n",
    "    chainsDir = 'donnees/tests/possedechaine';\n",
    "    files = dir(fullfile(chainsDir, 'chain_*.mat'));\n",
    "    \n",
    "    % Charger les valeurs de vérité\n",
    "    truthValues = load('donnees/tests/possedechaine/reponses/truthValues.mat');\n",
    "    truths = truthValues.truthValues;  % Assumer que les valeurs sont dans la variable 'truthValues'\n",
    "    % Boucle pour tester chaque chaîne\n",
    "    for k = 1:length(files)\n",
    "        % Charger la chaîne courante\n",
    "        chainFile = fullfile(chainsDir, files(k).name);\n",
    "        data = load(chainFile);\n",
    "        chain = data.chain; % Assumer que les chaînes sont stockées dans la variable 'chain'\n",
    "        \n",
    "        % Extraire le numéro de la chaîne depuis le nom du fichier\n",
    "        [~, name, ~] = fileparts(files(k).name);\n",
    "        chainNumber = sscanf(name, 'chain_%d');\n",
    "        \n",
    "        % Obtenir le résultat attendu de la liste de vérités\n",
    "        expectedResult = truths(chainNumber);\n",
    "        \n",
    "        % Calculer le résultat en utilisant possedechaine\n",
    "        result = possedechaine(A, chain);\n",
    "        % Utiliser assert pour vérifier le résultat\n",
    "        if expectedResult\n",
    "            resultStr = 'true';\n",
    "        else\n",
    "            resultStr = 'false';\n",
    "        end\n",
    "        assert(result == expectedResult, ...\n",
    "            ['Échec du test pour la chaîne : ', files(k).name, '. Attendu ', ...\n",
    "            resultStr, ', obtenu ', mat2str(result), '.']);\n",
    "    end\n",
    "    \n",
    "    disp('Tous les tests ont été passés avec succès !');\n",
    "end"
   ]
  },
  {
   "cell_type": "markdown",
   "id": "29255b01-233d-4c0f-93b1-a6688446e9e4",
   "metadata": {
    "kernel": "SoS"
   },
   "source": [
    "<div style=\"background-color: #f0f8ff; padding: 20px; border-radius: 10px; border: 1px solid #87cefa; font-family: 'Arial', sans-serif; line-height: 1.6;\">\n",
    "\n",
    "<p style=\"text-align: justify; font-size: 16px; color: #4682b4;\">\n",
    "<b>Q3)</b> Tester les chaînes : « Paris, Londres, Dublin », « Paris, Bernes, Ankara » et « Zagreb, Berlin, Oslo ».\n",
    "</p>\n",
    "\n",
    "</div>"
   ]
  },
  {
   "cell_type": "code",
   "execution_count": null,
   "id": "835d1c7f-35f6-4709-a370-1edbf94eaf90",
   "metadata": {
    "kernel": "SoS"
   },
   "outputs": [],
   "source": [
    "%A faire\n",
    "paris_londres_dublin = XXX;\n",
    "paris_bernes_ankara = XXX;\n",
    "zagreb_berlin_oslo = XXX;\n",
    "\n",
    "%Test\n",
    "possedechaine(A,paris_londres_dublin)\n",
    "possedechaine(A,paris_bernes_ankara)\n",
    "possedechaine(A,zagreb_berlin_oslo)"
   ]
  },
  {
   "cell_type": "markdown",
   "id": "7ed20fcd-9d72-478e-b368-861c81fa200f",
   "metadata": {
    "kernel": "SoS"
   },
   "source": [
    "<div style=\"background-color: #f0f8ff; padding: 20px; border-radius: 10px; border: 1px solid #87cefa; font-family: 'Arial', sans-serif; line-height: 1.6;\">\n",
    "\n",
    "<div style=\"text-align: center;\">\n",
    "    <h1><span style=\"color: #30588e;\">Exercice 4</span></h1>\n",
    "</div>\n",
    "\n",
    "<p style=\"text-align: justify; font-size: 16px; color: #4682b4;\">\n",
    "On s'intéresse maintenant en particulier aux chaînes eulériennes. Une chaîne eulérienne est une chaîne empruntant une fois et une fois seulement chaque arête du graphe.\n",
    "</p>\n",
    "\n",
    "</div>"
   ]
  },
  {
   "cell_type": "markdown",
   "id": "e828587a-cc5e-484d-9c7e-537c6a7f44d4",
   "metadata": {
    "kernel": "SoS"
   },
   "source": [
    "<div style=\"background-color: #c8e6c9; padding: 20px; border-radius: 10px; border: 1px solid #388e3c; font-family: 'Arial', sans-serif; line-height: 1.6;\">\n",
    "\n",
    "<p style=\"text-align: justify; font-size: 16px; color: #2e7d32;\">\n",
    "    <br><b>Rappel </b>\n",
    "    <details>\n",
    "        <summary></summary>\n",
    "        <b>Théorème d'Euler</b> : Un graphe connexe admet une chaîne eulérienne si et seulement si ses sommets sont tous de degré pair sauf au plus deux.\n",
    "    </details>\n",
    "</p>\n",
    "\n",
    "</div>\n"
   ]
  },
  {
   "cell_type": "markdown",
   "id": "bd8a5e53-413d-4a51-85f7-b454b4624f5d",
   "metadata": {
    "kernel": "SoS"
   },
   "source": [
    "<div style=\"background-color: #f0f8ff; padding: 20px; border-radius: 10px; border: 1px solid #87cefa; font-family: 'Arial', sans-serif; line-height: 1.6;\">\n",
    "\n",
    "<p style=\"text-align: justify; font-size: 16px; color: #4682b4;\">\n",
    "<b>Q1)</b> Implémenter à l'aide des fonctions matricielles une méthode <code style=\"color: #ff4500;\">isEulerien</code> pour déterminer si un graphe possède une chaîne eulérienne. On suppose ici les graphes connexes.\n",
    "</p>\n",
    "\n",
    "</div>"
   ]
  },
  {
   "cell_type": "code",
   "execution_count": null,
   "id": "44672fe6-986e-4df1-9fc9-208b2566b20a",
   "metadata": {
    "kernel": "SoS"
   },
   "outputs": [],
   "source": [
    "%A faire\n",
    "\n",
    "%Les tests sont valides uniquement pour d=500\n",
    "test_isEulerian();\n",
    "\n",
    "function is_eulerian = isEulerian(adjMatrix)\n",
    "    % IS_EULERIAN vérifie si un graphe déjà connecté est eulérien\n",
    "    % Selon le théorème d'Euler, un graphe est eulérien si tous les sommets ont un degré pair.\n",
    "    % Cette fonction suppose que le graphe est connexe\n",
    "\n",
    "    % Calculer le degré de chaque sommet\n",
    "    degrees = sum(adjMatrix, 2); % La somme des rangées donne le degré de chaque sommet\n",
    "\n",
    "    % Vérifier si tous les sommets ont un degré pair\n",
    "    is_eulerian = false;\n",
    "end\n",
    "\n",
    "\n",
    "% Test\n",
    "% Fonction de test pour vérifier si les matrices sont eulériennes\n",
    "function test_isEulerian()\n",
    "    % Chemin vers le dossier contenant les matrices\n",
    "    matrixDir = 'donnees/tests/isEulerian';\n",
    "    files = dir(fullfile(matrixDir, '*.mat'));\n",
    "    \n",
    "    % Supposons que les valeurs de vérité sont stockées dans un fichier MAT séparé\n",
    "    truthValues = load('donnees/tests/isEulerian/reponses/truthValues.mat');\n",
    "    truths = truthValues.truthValues;  % Supposons que la variable soit nommée 'truthValues'\n",
    "    \n",
    "    % Parcourir chaque fichier et tester la fonction isEulerian\n",
    "    for k = 1:length(files)\n",
    "        % Charger la matrice\n",
    "        matrixFile = fullfile(matrixDir, files(k).name);\n",
    "        data = load(matrixFile);\n",
    "        matrix = data.adj_matrix;  % Supposons que la matrice soit enregistrée sous le nom de variable 'adj_matrix'\n",
    "        \n",
    "        % Extraire le numéro de la matrice à partir du nom de fichier\n",
    "        [~, name, ~] = fileparts(files(k).name);\n",
    "        matrixNumber = sscanf(name, 'adj_matrix_%d');\n",
    "        \n",
    "        % Obtenir le résultat attendu à partir de la liste de vérités\n",
    "        expectedResult = truths(matrixNumber);\n",
    "        \n",
    "        % Calculer le résultat en utilisant isEulerian\n",
    "        result = isEulerian(matrix);\n",
    "        \n",
    "        % Vérifier le résultat\n",
    "        assert(result == expectedResult, ...\n",
    "            ['Échec du test pour la matrice : ', files(k).name, '. Attendu ', ...\n",
    "            mat2str(expectedResult), ', obtenu ', mat2str(result), '.']);\n",
    "    end\n",
    "    \n",
    "    disp('Tous les tests ont été passés avec succès !');\n",
    "end\n"
   ]
  },
  {
   "cell_type": "markdown",
   "id": "cfad56ed-e76d-4456-ab2c-41e60d6ff6bd",
   "metadata": {
    "kernel": "SoS"
   },
   "source": [
    "<div style=\"background-color: #ffe0e0; padding: 20px; border-radius: 10px; border: 1px solid #fa8787; font-family: 'Arial', sans-serif; line-height: 1.6;\">\n",
    "\n",
    "<p style=\"text-align: justify; font-size: 16px; color: #b44242;\">\n",
    "Tester sur le graphe <i>G</i> de matrice d’adjacence <i>A</i>.\n",
    "</p>\n",
    "\n",
    "</div>"
   ]
  },
  {
   "cell_type": "code",
   "execution_count": null,
   "id": "01561e46-f0bb-4f8b-b58d-eb890f3b772f",
   "metadata": {
    "kernel": "SoS"
   },
   "outputs": [],
   "source": [
    "%Test\n",
    "if isEulerian(A)\n",
    "    disp('G est eulérien.');\n",
    "else\n",
    "    disp('G n''est pas eulérien.');\n",
    "end"
   ]
  },
  {
   "cell_type": "markdown",
   "id": "87158f8f-390e-467c-9f2f-9a6ec272498f",
   "metadata": {
    "kernel": "SoS"
   },
   "source": [
    "<div style=\"background-color: #f0f8ff; padding: 20px; border-radius: 10px; border: 1px solid #87cefa; font-family: 'Arial', sans-serif; line-height: 1.6;\">\n",
    "\n",
    "<p style=\"text-align: justify; font-size: 16px; color: #4682b4;\">\n",
    "<b>Q2)</b> Expliquer pourquoi nous avons ce résultat dans le cas actuel (avec d=500km).\n",
    "</p>\n",
    "\n",
    "</div>"
   ]
  },
  {
   "cell_type": "markdown",
   "id": "93034a65-a38c-4c43-8d92-fbeb89f21843",
   "metadata": {
    "kernel": "SoS"
   },
   "source": []
  },
  {
   "cell_type": "markdown",
   "id": "a401a2fc-c2a8-47bb-bc8d-2a93f6ac3013",
   "metadata": {
    "kernel": "SoS"
   },
   "source": [
    "<div style=\"background-color: #f0f8ff; padding: 20px; border-radius: 10px; border: 1px solid #87cefa; font-family: 'Arial', sans-serif; line-height: 1.6;\">\n",
    "\n",
    "<div style=\"text-align: center;\">\n",
    "    <h1><span style=\"color: #30588e;\">Exercice 5</span></h1>\n",
    "</div>\n",
    "\n",
    "<p style=\"text-align: justify; font-size: 16px; color: #4682b4;\">\n",
    "On cherche à identifier les valeurs de <i>d</i> pour lequel le graphe admet une chaîne eulérienne.\n",
    "</p>\n",
    "</div>"
   ]
  },
  {
   "cell_type": "markdown",
   "id": "5ccbbd5b-f6fc-478a-9a00-8e0fc6415dc2",
   "metadata": {
    "kernel": "SoS"
   },
   "source": [
    "<div style=\"background-color: #f0f8ff; padding: 20px; border-radius: 10px; border: 1px solid #87cefa; font-family: 'Arial', sans-serif; line-height: 1.6;\">\n",
    "\n",
    "<p style=\"text-align: justify; font-size: 16px; color: #4682b4;\">\n",
    "<b>Q1)</b>Proposer une méthode qui détermine pour toutes les valeurs de portée <i>d</i> (dans <i>R</i>) si <i>G(d)</i> possède une chaîne eulérienne.\n",
    "</p>\n",
    "</div>"
   ]
  },
  {
   "cell_type": "markdown",
   "id": "9d3423f3-7d21-4568-98f7-5bc66d689527",
   "metadata": {
    "kernel": "SoS"
   },
   "source": []
  },
  {
   "cell_type": "markdown",
   "id": "34b9d008-561c-4266-8c88-822ca753d273",
   "metadata": {
    "kernel": "SoS"
   },
   "source": [
    "<div style=\"background-color: #ffe0e0; padding: 20px; border-radius: 10px; border: 1px solid #fa8787; font-family: 'Arial', sans-serif; line-height: 1.6;\">\n",
    "\n",
    "<p style=\"text-align: justify; font-size: 16px; color: #b44242;\">\n",
    "La fonction <code style=\"color: #ff4500;\">porteeEulerien(D)</code> affiche les valeurs de <i>d</i> pour lesquelles <i>G(d)</i> admet une chaîne eulérienne. Invoquer la fonction <code style=\"color: #ff4500;\">porteeEulerien</code> sur <i>D</i>.\n",
    "</p>\n",
    "\n",
    "</div>"
   ]
  },
  {
   "cell_type": "code",
   "execution_count": null,
   "id": "c3130f1b-0ad3-41b5-b0a9-58a86616f793",
   "metadata": {
    "kernel": "SoS"
   },
   "outputs": [],
   "source": [
    "%Visualisation\n",
    "porteeEulerien(D)"
   ]
  },
  {
   "cell_type": "markdown",
   "id": "210e2a15-f6bb-4b61-95fc-fa66db38ad3b",
   "metadata": {
    "kernel": "SoS"
   },
   "source": [
    "<div style=\"background-color: #f0f8ff; padding: 20px; border-radius: 10px; border: 1px solid #87cefa; font-family: 'Arial', sans-serif; line-height: 1.6;\">\n",
    "\n",
    "<p style=\"text-align: justify; font-size: 16px; color: #4682b4;\">\n",
    "<b>Q2)</b> Expliquer en particulier la première et les deux dernières valeurs de portée pour lequel le graphe est eulérien. \n",
    "    On peut considérer qu'aucune paire de ville ne possède la même distance qu'une autre paire de ville, on a donc autant de distances distinctes que de paires de villes.\n",
    "    De plus, il existe 26 villes dans notre exemple.\n",
    "</p>\n",
    "\n",
    "</div>"
   ]
  },
  {
   "cell_type": "code",
   "execution_count": null,
   "id": "da568a51-c67a-493c-81c4-56b2a3ac279c",
   "metadata": {},
   "outputs": [],
   "source": []
  }
 ],
 "metadata": {
  "kernelspec": {
   "display_name": "MATLAB Kernel",
   "language": "matlab",
   "name": "jupyter_matlab_kernel"
  },
  "language_info": {
   "file_extension": ".m",
   "mimetype": "text/x-matlab",
   "name": "matlab"
  },
  "sos": {
   "kernels": [
    [
     "MATLAB Kernel",
     "jupyter_matlab_kernel",
     "matlab",
     "",
     ""
    ],
    [
     "SoS",
     "sos",
     "",
     "",
     "sos"
    ]
   ],
   "version": ""
  }
 },
 "nbformat": 4,
 "nbformat_minor": 5
}
