{
 "cells": [
  {
   "cell_type": "code",
   "execution_count": 1,
   "metadata": {},
   "outputs": [],
   "source": [
    "%load_ext autoreload\n",
    "%autoreload 2"
   ]
  },
  {
   "cell_type": "markdown",
   "metadata": {
    "id": "VT6Jf_o8g63_"
   },
   "source": [
    "# Part 2: Parametric Interpolation $ (x,y) = f(t) $"
   ]
  },
  {
   "cell_type": "markdown",
   "metadata": {
    "id": "L3ySta7Qg63_"
   },
   "source": [
    "\n",
    "## Concept\n",
    "\n",
    "Here, we are looking for an interpolating curve for a set of points $(x, y)$ in $\\mathbb{R}^2$ (in any order). We will have two lists: `XX` for the x-coordinates and `YY` for the y-coordinates.\n",
    "\n",
    "We will perform two functional interpolations:\n",
    "\n",
    "$\n",
    "\\begin{cases}\n",
    "x(t) = \\text{neville}(XX, Temps, t) \\\\\n",
    "y(t) = \\text{neville}(YY, Temps, t)\n",
    "\\end{cases}\n",
    "$\n",
    "\n",
    "By varying $t$ between 0 and 1, we obtain a set of points that form the interpolating curve.\n",
    "\n",
    "We still need to choose `Temps`. This is the temporal distribution of the control points between 0 and 1. They can be distributed regularly, based on their distance in $\\mathbb{R}^2$, or as before, according to Chebyshev."
   ]
  },
  {
   "cell_type": "markdown",
   "metadata": {
    "id": "oSEf9lXug63_"
   },
   "source": [
    "\n",
    "### Implementation:\n",
    "\n",
    "In this Objective:\n",
    "\n",
    "In the file `interpolation.py`, complete the code of the functions `regular_parametrisation`, `distance_parametrisation`, `parametrisation_racinedistance`:\n",
    "\n",
    "```python\n",
    "def regular_parametrisation(nb_point: int) -> List[float]\n",
    "```\n",
    "```python\n",
    "def distance_parametrisation(XX:List[float], YY: List[float]) -> List[float]\n",
    "```\n",
    "```python\n",
    "def parametrisation_racinedistance(XX:List[float], YY: List[float]) -> List[float]\n",
    "```"
   ]
  },
  {
   "cell_type": "code",
   "execution_count": null,
   "metadata": {
    "colab": {
     "base_uri": "https://localhost:8080/"
    },
    "executionInfo": {
     "elapsed": 266,
     "status": "ok",
     "timestamp": 1718115671640,
     "user": {
      "displayName": "Ludovic STUCKI",
      "userId": "16063659968752955506"
     },
     "user_tz": -120
    },
    "id": "97oN2T7yg63_",
    "outputId": "c4ab019a-1476-4fbe-93cf-dff11e04b883"
   },
   "outputs": [],
   "source": [
    "from utilities import *\n",
    "\n",
    "\n",
    "test_parametrisations()"
   ]
  },
  {
   "cell_type": "code",
   "execution_count": null,
   "metadata": {
    "colab": {
     "base_uri": "https://localhost:8080/",
     "height": 1000
    },
    "executionInfo": {
     "elapsed": 791,
     "status": "ok",
     "timestamp": 1718115699922,
     "user": {
      "displayName": "Ludovic STUCKI",
      "userId": "16063659968752955506"
     },
     "user_tz": -120
    },
    "id": "Fqat_iKXg63_",
    "outputId": "cfbb334e-665e-45ea-9c28-f1affcea46f7"
   },
   "outputs": [],
   "source": [
    "from utilities import *\n",
    "\n",
    "\n",
    "XX, YY = generate_points(6)\n",
    "visualize_parametrisation(XX,YY)"
   ]
  },
  {
   "cell_type": "markdown",
   "metadata": {
    "id": "RUTQcjGRg64A"
   },
   "source": [
    "\n",
    "Keeping the same points, we will plot the interpolating curve (in red) as well as its decomposition along the X-axis (in blue) and Y-axis (in green).\n",
    "\n",
    "The red points are the projection of the control points on the time axis; they correspond to what you see just above.\n",
    "\n",
    "Try different parameterizations to discern the differences based on the arrangement of the points.\n",
    "\n",
    "---\n",
    "\n",
    "#### Visualization\n",
    "1. **Interpolating Curve:**\n",
    "   - Color: Red\n",
    "\n",
    "2. **Decomposition along the axes:**\n",
    "   - X-axis: Blue\n",
    "   - Y-axis: Green\n",
    "\n",
    "3. **Red Points:**\n",
    "   - Projections on the time axis\n",
    "\n",
    "---\n",
    "\n",
    "#### Objective:\n",
    "\n",
    "Test different parameterizations to observe the differences based on the arrangement of the control points."
   ]
  },
  {
   "cell_type": "code",
   "execution_count": null,
   "metadata": {
    "colab": {
     "base_uri": "https://localhost:8080/",
     "height": 777
    },
    "executionInfo": {
     "elapsed": 1141,
     "status": "ok",
     "timestamp": 1718115730106,
     "user": {
      "displayName": "Ludovic STUCKI",
      "userId": "16063659968752955506"
     },
     "user_tz": -120
    },
    "id": "KOc5lkp-g64A",
    "outputId": "ff069b69-d4f5-4657-e6fa-ad36e026205e"
   },
   "outputs": [],
   "source": [
    "from utilities import *\n",
    "\n",
    "\n",
    "tchebycheff = tchebycheff_parametrisation(len(XX))\n",
    "\n",
    "TT_Reguliere = regular_parametrisation(len(XX))\n",
    "TT_Distance = distance_parametrisation(XX,YY)\n",
    "TT_RacineDistance = parametrisation_racinedistance(XX,YY)\n",
    "TT_Tchebycheff = normalize_to_0_1(tchebycheff)\n",
    "\n",
    "\n",
    "type_parametrisation = TT_Tchebycheff # changer ici\n",
    "\n",
    "nb_samples = 500\n",
    "\n",
    "plotter = ParametricInterpolationPlot(XX, YY, type_parametrisation, nb_samples)\n",
    "plotter.plot(figsize=(11, 8))"
   ]
  },
  {
   "cell_type": "markdown",
   "metadata": {
    "id": "K78iz9ATg64A"
   },
   "source": [
    "Best comparison:"
   ]
  },
  {
   "cell_type": "code",
   "execution_count": null,
   "metadata": {
    "executionInfo": {
     "elapsed": 241,
     "status": "ok",
     "timestamp": 1718115751791,
     "user": {
      "displayName": "Ludovic STUCKI",
      "userId": "16063659968752955506"
     },
     "user_tz": -120
    },
    "id": "uuzbWSvFg64A"
   },
   "outputs": [],
   "source": [
    "from utilities import *\n",
    "\n",
    "XX, YY = generate_points(5) "
   ]
  },
  {
   "cell_type": "code",
   "execution_count": null,
   "metadata": {},
   "outputs": [],
   "source": [
    "from utilities import *\n",
    "\n",
    "\n",
    "nb_samples = 500\n",
    "plotter = NevilleInterpolationPlotter_2x2(XX, YY, nb_samples)\n",
    "plotter.plot()"
   ]
  },
  {
   "cell_type": "code",
   "execution_count": null,
   "metadata": {
    "colab": {
     "base_uri": "https://localhost:8080/",
     "height": 718
    },
    "executionInfo": {
     "elapsed": 1105,
     "status": "ok",
     "timestamp": 1718115759600,
     "user": {
      "displayName": "Ludovic STUCKI",
      "userId": "16063659968752955506"
     },
     "user_tz": -120
    },
    "id": "shQSxXKNg64A",
    "outputId": "e38f49f4-a298-4fe3-fea5-b8854521deb5"
   },
   "outputs": [],
   "source": [
    "from utilities import *\n",
    "\n",
    "\n",
    "nb_samples = 500\n",
    "plotter = NevilleInterpolationPlotter_2(XX, YY, nb_samples)\n",
    "plotter.plot()"
   ]
  },
  {
   "cell_type": "markdown",
   "metadata": {},
   "source": [
    "# Before leaving the notebook, make sure to clear all the outputs !"
   ]
  }
 ],
 "metadata": {
  "colab": {
   "provenance": []
  },
  "kernelspec": {
   "display_name": ".venv",
   "language": "python",
   "name": "python3"
  },
  "language_info": {
   "codemirror_mode": {
    "name": "ipython",
    "version": 3
   },
   "file_extension": ".py",
   "mimetype": "text/x-python",
   "name": "python",
   "nbconvert_exporter": "python",
   "pygments_lexer": "ipython3",
   "version": "3.13.1"
  }
 },
 "nbformat": 4,
 "nbformat_minor": 0
}
