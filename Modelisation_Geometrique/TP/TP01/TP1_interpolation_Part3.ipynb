{
 "cells": [
  {
   "cell_type": "code",
   "execution_count": null,
   "metadata": {},
   "outputs": [],
   "source": [
    "%load_ext autoreload\n",
    "%autoreload 2"
   ]
  },
  {
   "cell_type": "markdown",
   "metadata": {
    "id": "LnUslT9mg64A"
   },
   "source": [
    "# 3rd Part: Surface Interpolation $ (x,y,z) = f(t) $"
   ]
  },
  {
   "cell_type": "markdown",
   "metadata": {
    "id": "x2g0lc-ig64A"
   },
   "source": [
    "## Tensor Product\n",
    "\n",
    "To perform surface interpolation, we will work with the tensor product.\n",
    "\n",
    "### Tensor Product Formula with Double Sum\n",
    "\n",
    "The general formula for the tensor product with double sum is as follows:\n",
    "\n",
    "$ S : \\mathbb{R}^2 \\rightarrow \\mathbb{R}^3 $\n",
    "$ (x, y) \\mapsto S(x, y) $\n",
    "\n",
    "$ S(x, y) = \\sum_{i=1}^{n} \\sum_{j=1}^{m} P_{ij} \\phi_i(x) \\psi_j(y) $\n",
    "\n",
    "- $ S(x, y) $ : The function of the interpolated surface. It represents the interpolated value at the position $(x, y)$ in the surface domain.\n",
    "- $ \\sum_{i=1}^{n} \\sum_{j=1}^{m} $ : Double sum, iterating over the indices $i$ and $j$. Here, $n$ is the number of terms for interpolation according to $x$ and $m$ is the number of terms for interpolation according to $y$. This double sum combines the contributions of all points on the grid.\n",
    "- $ P_{ij} $ : Coefficients representing the values at the position $(i, j)$ on the original grid of points. These coefficients are the values we want to interpolate.\n",
    "- $ \\phi_i(x) $ : Lagrange basis function depending on $x$ for index $i$, but also on a set on interpolating values $XX=(XX_i)_{i=0...n}$. It is used for interpolation in the $x$ direction.\n",
    "- $ \\psi_j(y) $ : Lagrenage basis function depending on $y$ for index $j$, but also on a set on interpolating values $YY=(YY_i)_{i=0...n}$. It is used for interpolation in the $y$ direction.\n",
    "\n",
    "### Construction of the Rectangular Grid of Points\n",
    "\n",
    "We will construct a rectangular grid of points, each point having three coordinates $ X, Y$ and $ Z$ because they are in $ \\mathbb{R}^3$. The grid is thus of size $ {N}_x \\times N_y (\\times 3$ for the three coordinates $ X, Y, Z$).\n",
    "\n",
    "<center> <img src=\"images/Surface1.png\" width=500></center>\n",
    "<caption><center> Step 1. </center></caption>\n",
    "\n",
    "### Interpolation Steps\n",
    "\n",
    "#### 1. Interpolation according to $ X$\n",
    "\n",
    "We start by interpolating the points according to $ X$ to form a grid of size $ N_{\\text{samples}} \\times N_y (\\times 3$ for the three coordinates $ X, Y, Z$). We will perform three functional interpolations for $ X, Y$ and $ Z$ to obtain the interpolation curve of points in $ \\mathbb{R}^3$.\n",
    "\n",
    "<center> <img src=\"images/Surface2.png\" width=500></center>\n",
    "<caption><center> Step 2. </center></caption>\n",
    "\n",
    "#### 2. Interpolation according to $ Y$\n",
    "\n",
    "Next, we interpolate according to the second dimension of the grid to form the grid of points constituting the surface of size $ N_{\\text{samples}} \\times N_{\\text{samples}} (\\times 3$ for the three coordinates $ X, Y, Z$).\n",
    "\n",
    "<center> <img src=\"images/Surface3.png\" width=500></center>\n",
    "<caption><center> Step 3. </center></caption>\n",
    "\n",
    "Finally, the result of the surface interpolation is a grid of points in $ \\mathbb{R}^3$, forming a surface."
   ]
  },
  {
   "cell_type": "markdown",
   "metadata": {
    "id": "CQ_nGLxAg64A"
   },
   "source": [
    "## Pringles"
   ]
  },
  {
   "cell_type": "code",
   "execution_count": null,
   "metadata": {
    "colab": {
     "base_uri": "https://localhost:8080/",
     "height": 673,
     "output_embedded_package_id": "1UBn_vpD7UZEvGCI8ypla8c_ndzYUd5iz"
    },
    "executionInfo": {
     "elapsed": 5379,
     "status": "ok",
     "timestamp": 1718115794720,
     "user": {
      "displayName": "Ludovic STUCKI",
      "userId": "16063659968752955506"
     },
     "user_tz": -120
    },
    "id": "82A7Ph9Hg64A",
    "outputId": "99920b9a-8008-4e01-f219-51f5b722a5e5"
   },
   "outputs": [],
   "source": [
    "from utilities import *\n",
    "\n",
    "# We will get: x_max - x_min = 2 * grid_size\n",
    "grid_size = 5\n",
    "\n",
    "nb_points_x = 5\n",
    "nb_points_y = 5\n",
    "\n",
    "# Elongation factor along x\n",
    "a = 0.1\n",
    "# Elongation factor along y\n",
    "b = 0.1\n",
    "\n",
    "# opacity: 0 = transparent, 1 = opaque\n",
    "opacity = 0.8\n",
    "\n",
    "X, Y, Z = generer_surface_pringles(nb_points_x, nb_points_y, grid_size, a, b)\n",
    "\n",
    "print(X.shape)\n",
    "\n",
    "tchebycheff_x = tchebycheff_parametrisation(nb_points_x)\n",
    "tchebycheff_y = tchebycheff_parametrisation(nb_points_y)\n",
    "\n",
    "\n",
    "\n",
    "TT_Reguliere_x = regular_parametrisation(nb_points_x)\n",
    "TT_Reguliere_y = regular_parametrisation(nb_points_y)\n",
    "\n",
    "\n",
    "TT_Tchebycheff_x = normalize_to_0_1(tchebycheff_x)\n",
    "TT_Tchebycheff_y = normalize_to_0_1(tchebycheff_y)\n",
    "\n",
    "\n",
    "\n",
    "list_tt = np.linspace(0, 1, 200)\n",
    "\n",
    "\n",
    "interpolated_surface_neville_Regulière = surface_interpolation_neville(X, Y, Z, TT_Reguliere_x,TT_Reguliere_y, list_tt, nb_points_x)\n",
    "interpolated_surface_neville_Tchebycheff = surface_interpolation_neville(X, Y, Z, TT_Tchebycheff_x,TT_Tchebycheff_y, list_tt, nb_points_x)\n",
    "\n",
    "\n",
    "print(\"End Interpolation\")\n",
    "\n",
    "\n",
    "plot_with_interpolation(X, Y, Z, interpolated_surface_neville_Regulière,interpolated_surface_neville_Tchebycheff,opacity)\n"
   ]
  },
  {
   "cell_type": "markdown",
   "metadata": {
    "id": "vrtC8nYwg64D"
   },
   "source": [
    "## Mountain"
   ]
  },
  {
   "cell_type": "code",
   "execution_count": null,
   "metadata": {
    "colab": {
     "base_uri": "https://localhost:8080/",
     "height": 1000,
     "output_embedded_package_id": "1P44miS0DyoK754k7VRfa_lSJh07Fcut8"
    },
    "executionInfo": {
     "elapsed": 17132,
     "status": "ok",
     "timestamp": 1718115884748,
     "user": {
      "displayName": "Ludovic STUCKI",
      "userId": "16063659968752955506"
     },
     "user_tz": -120
    },
    "id": "CjQEmNzEg64D",
    "outputId": "5f779c04-30a8-4561-c5bc-e0c135235c8f"
   },
   "outputs": [],
   "source": [
    "from utilities import *\n",
    "\n",
    "# We will get: x_max - x_min = 2 * grid_size\n",
    "grid_size = 12\n",
    "\n",
    "nb_points_x = 8\n",
    "nb_points_y = 7\n",
    "\n",
    "# size of the mountain\n",
    "noise_power = 18\n",
    "\n",
    "# opacity: 0 = transparent, 1 = opaque\n",
    "opacity = 0.8\n",
    "\n",
    "X, Y, Z = generer_points_montagne(nb_points_x, nb_points_y, grid_size, noise_power)\n",
    "\n",
    "print(X.shape)\n",
    "\n",
    "tchebycheff_x = tchebycheff_parametrisation(nb_points_x)\n",
    "tchebycheff_y = tchebycheff_parametrisation(nb_points_y)\n",
    "\n",
    "\n",
    "\n",
    "TT_Reguliere_x = regular_parametrisation(nb_points_x)\n",
    "TT_Reguliere_y = regular_parametrisation(nb_points_y)\n",
    "\n",
    "\n",
    "TT_Tchebycheff_x = normalize_to_0_1(tchebycheff_x)\n",
    "TT_Tchebycheff_y = normalize_to_0_1(tchebycheff_y)\n",
    "\n",
    "\n",
    "\n",
    "list_tt = np.linspace(0, 1, 300)\n",
    "\n",
    "\n",
    "interpolated_surface_neville_Regulière = surface_interpolation_neville(X, Y, Z, TT_Reguliere_x,TT_Reguliere_y, list_tt, nb_points_x)\n",
    "interpolated_surface_neville_Tchebycheff = surface_interpolation_neville(X, Y, Z, TT_Tchebycheff_x,TT_Tchebycheff_y, list_tt, nb_points_x)\n",
    "\n",
    "\n",
    "print(\"End Interpolation\")\n",
    "\n",
    "plot_with_interpolation(X, Y, Z, interpolated_surface_neville_Regulière,interpolated_surface_neville_Tchebycheff,opacity)\n"
   ]
  },
  {
   "cell_type": "markdown",
   "metadata": {
    "id": "92CczJPMg64D"
   },
   "source": [
    "## Torus"
   ]
  },
  {
   "cell_type": "code",
   "execution_count": null,
   "metadata": {
    "colab": {
     "base_uri": "https://localhost:8080/",
     "height": 673,
     "output_embedded_package_id": "1NZoLtqGRhG-rhWYD_zf97mClNZg-ylDh"
    },
    "executionInfo": {
     "elapsed": 22556,
     "status": "ok",
     "timestamp": 1718115845947,
     "user": {
      "displayName": "Ludovic STUCKI",
      "userId": "16063659968752955506"
     },
     "user_tz": -120
    },
    "id": "wEFi_3scg64D",
    "outputId": "0816af7e-c875-4401-e0f3-b7230aca2af7"
   },
   "outputs": [],
   "source": [
    "from utilities import *\n",
    "\n",
    "# Diameter of outer and inner circles\n",
    "r_outer, r_inner = 3, 1.2\n",
    "\n",
    "# Selon le petit tour\n",
    "num_u = 8\n",
    "# Selon le grand tour\n",
    "num_v = 6\n",
    "\n",
    "# opacity: 0 = transparent, 1 = opaque\n",
    "opacity = 0.9\n",
    "\n",
    "\n",
    "X, Y, Z = generate_torus(r_outer, r_inner, num_v, num_u)\n",
    "print(X.shape)\n",
    "\n",
    "tchebycheff_x = tchebycheff_parametrisation(num_u)\n",
    "tchebycheff_y = tchebycheff_parametrisation(num_v)\n",
    "\n",
    "\n",
    "\n",
    "TT_Reguliere_x = regular_parametrisation(num_u)\n",
    "TT_Reguliere_y = regular_parametrisation(num_v)\n",
    "\n",
    "\n",
    "TT_Tchebycheff_x = normalize_to_0_1(tchebycheff_x)\n",
    "TT_Tchebycheff_y = normalize_to_0_1(tchebycheff_y)\n",
    "\n",
    "list_tt = np.linspace(0, 1, 300)\n",
    "\n",
    "\n",
    "\n",
    "interpolated_surface_neville_Regulière = surface_interpolation_neville(X, Y, Z, TT_Reguliere_x,TT_Reguliere_y, list_tt, num_u)\n",
    "interpolated_surface_neville_Tchebycheff = surface_interpolation_neville(X, Y, Z, TT_Tchebycheff_x,TT_Tchebycheff_y, list_tt, num_u)\n",
    "print(\"End Interpolation\")\n",
    "\n",
    "# Plot the results\n",
    "plot_with_interpolation(X, Y, Z, interpolated_surface_neville_Regulière, interpolated_surface_neville_Tchebycheff,opacity)\n"
   ]
  },
  {
   "cell_type": "markdown",
   "metadata": {
    "id": "mmE3ZE0kg64D"
   },
   "source": [
    "## Complex Structures (Fractal)"
   ]
  },
  {
   "cell_type": "code",
   "execution_count": null,
   "metadata": {
    "colab": {
     "base_uri": "https://localhost:8080/",
     "height": 635
    },
    "executionInfo": {
     "elapsed": 21,
     "status": "ok",
     "timestamp": 1718115884748,
     "user": {
      "displayName": "Ludovic STUCKI",
      "userId": "16063659968752955506"
     },
     "user_tz": -120
    },
    "id": "Uyd2fY2jg64E",
    "outputId": "1980ec9a-9137-41d1-b1e2-18750fa86073"
   },
   "outputs": [],
   "source": [
    "from utilities import *\n",
    "\n",
    "\n",
    "n = 4\n",
    "m = 100\n",
    "scale = 10\n",
    "\n",
    "X, Y, Z = generer_points_fractale(n, m, scale)\n",
    "print(X.shape)\n",
    "plot_fractal(X, Y, Z)\n"
   ]
  },
  {
   "cell_type": "code",
   "execution_count": null,
   "metadata": {
    "executionInfo": {
     "elapsed": 50933,
     "status": "aborted",
     "timestamp": 1718115839982,
     "user": {
      "displayName": "Ludovic STUCKI",
      "userId": "16063659968752955506"
     },
     "user_tz": -120
    },
    "id": "FOP562NKg64E"
   },
   "outputs": [],
   "source": [
    "from utilities import *\n",
    "\n",
    "\n",
    "tchebycheff_x = tchebycheff_parametrisation(2**n +1)\n",
    "tchebycheff_y = tchebycheff_parametrisation(2**n +1)\n",
    "\n",
    "\n",
    "\n",
    "TT_Reguliere_x = regular_parametrisation(2**n +1)\n",
    "TT_Reguliere_y = regular_parametrisation(2**n +1)\n",
    "\n",
    "\n",
    "TT_Tchebycheff_x = normalize_to_0_1(tchebycheff_x)\n",
    "TT_Tchebycheff_y = normalize_to_0_1(tchebycheff_y)\n",
    "\n",
    "list_tt = np.linspace(0, 1, 200)\n",
    "\n",
    "\n",
    "\n",
    "interpolated_surface_neville_Regulière = surface_interpolation_neville(X, Y, Z, TT_Reguliere_x,TT_Reguliere_y, list_tt, 2**n +1)\n",
    "interpolated_surface_neville_Tchebycheff = surface_interpolation_neville(X, Y, Z, TT_Tchebycheff_x,TT_Tchebycheff_y, list_tt,2**n +1)\n",
    "print(\"End Interpolation\")\n",
    "\n",
    "# Plot the results\n",
    "plot_with_interpolation_2(X, Y, Z, interpolated_surface_neville_Regulière, interpolated_surface_neville_Tchebycheff,opacity)"
   ]
  },
  {
   "cell_type": "markdown",
   "metadata": {
    "id": "3baEhKJng64E"
   },
   "source": [
    "## Patch interpolation\n",
    "The surface to be interpolated is divided into sections to reduce oscillations and calculation time."
   ]
  },
  {
   "cell_type": "code",
   "execution_count": null,
   "metadata": {
    "executionInfo": {
     "elapsed": 50929,
     "status": "aborted",
     "timestamp": 1718115839983,
     "user": {
      "displayName": "Ludovic STUCKI",
      "userId": "16063659968752955506"
     },
     "user_tz": -120
    },
    "id": "Pnf5-wkyg64E"
   },
   "outputs": [],
   "source": [
    "from utilities import *\n",
    "\n",
    "n = 6\n",
    "m = 100\n",
    "scale = 10\n",
    "\n",
    "X, Y, Z = generer_points_fractale(n, m, scale)\n",
    "print(X.shape)\n",
    "plot_fractal(X, Y, Z)\n"
   ]
  },
  {
   "cell_type": "code",
   "execution_count": null,
   "metadata": {
    "executionInfo": {
     "elapsed": 50926,
     "status": "aborted",
     "timestamp": 1718115839983,
     "user": {
      "displayName": "Ludovic STUCKI",
      "userId": "16063659968752955506"
     },
     "user_tz": -120
    },
    "id": "qHE16q1Ng64E"
   },
   "outputs": [],
   "source": [
    "from utilities import *\n",
    "\n",
    "# number of subdivision\n",
    "num_patches = 5\n",
    "\n",
    "\n",
    "patches = create_patches(X, Y, Z, num_patches)\n",
    "print(len(patches))\n",
    "interpolated_surfaces = []\n",
    "\n",
    "for i, (X_patch, Y_patch, Z_patch) in enumerate(tqdm(patches, desc=\"Patches interpolation\")):\n",
    "\n",
    "\n",
    "    tchebycheff_x = tchebycheff_parametrisation(X_patch.shape[0])\n",
    "    tchebycheff_y = tchebycheff_parametrisation(X_patch.shape[1])\n",
    "\n",
    "\n",
    "    TT_patch1 = normalize_to_0_1(tchebycheff_x)\n",
    "    TT_patch2 = normalize_to_0_1(tchebycheff_y)\n",
    "\n",
    "    list_tt_patch = np.linspace(0, 1, floor(300/num_patches))\n",
    "\n",
    "    interpolated_surface_patch = surface_interpolation_neville(X_patch, Y_patch, Z_patch, TT_patch1, TT_patch2, list_tt_patch, X_patch.shape[0])\n",
    "    interpolated_surfaces.append(interpolated_surface_patch)\n",
    "\n",
    "print(\"end of interpolation\")\n",
    "plot_patch_interpolation(X, Y, Z, interpolated_surfaces)\n"
   ]
  }
 ],
 "metadata": {
  "colab": {
   "provenance": []
  },
  "kernelspec": {
   "display_name": ".venv",
   "language": "python",
   "name": "python3"
  },
  "language_info": {
   "codemirror_mode": {
    "name": "ipython",
    "version": 3
   },
   "file_extension": ".py",
   "mimetype": "text/x-python",
   "name": "python",
   "nbconvert_exporter": "python",
   "pygments_lexer": "ipython3",
   "version": "3.11.4"
  }
 },
 "nbformat": 4,
 "nbformat_minor": 0
}
