{
 "cells": [
  {
   "cell_type": "code",
   "execution_count": 1,
   "metadata": {},
   "outputs": [],
   "source": [
    "%load_ext autoreload\n",
    "%autoreload 2"
   ]
  },
  {
   "cell_type": "markdown",
   "metadata": {
    "id": "Aznbpjv6g638"
   },
   "source": [
    "# Part 1: Functional Interpolation $ y = f(x) $"
   ]
  },
  {
   "cell_type": "markdown",
   "metadata": {
    "id": "HdCXpcDlg638"
   },
   "source": [
    "## Lagrange Interpolating Polynomial\n",
    "We will start with Lagrange interpolation.\n",
    "\n",
    "Given a set of $ n+1 $ control points $(x_0, y_0), (x_1, y_1), \\ldots, (x_n, y_n)$, the Lagrange interpolating polynomial $ P_n(x) $ of degree $ n $ is defined as follows:\n",
    "\n",
    "$P_n(x) = \\sum_{i=0}^{n} y_i \\ell_i(x)$\n",
    "\n",
    "where $\\ell_i(x) $ is the Lagrange polynomial associated with the $i$-th control point, given by:\n",
    "\n",
    "$ \\ell_i(x) = \\prod_{\\substack{0 \\le j \\le n \\\\ j \\ne i}} \\frac{x - x_j}{x_i - x_j} $\n",
    "\n",
    "### Example with 3 Points\n",
    "\n",
    "$P_2(x) = y_0 \\frac{(x - x_1)(x - x_2)}{(x_0 - x_1)(x_0 - x_2)} + y_1 \\frac{(x - x_0)(x - x_2)}{(x_1 - x_0)(x_1 - x_2)} + y_2 \\frac{(x - x_0)(x - x_1)}{(x_2 - x_0)(x_2 - x_1)}$"
   ]
  },
  {
   "cell_type": "markdown",
   "metadata": {
    "id": "mNfzfJEig638"
   },
   "source": [
    "## Complications\n",
    "\n",
    "When testing random samples with a variable number of control points, try to identify problematic cases.\n",
    "Attempt to understand what causes these issues, particularly in relation to the faithful interpolation of control points.\n",
    "\n",
    "The color scale is as follows: blue - close to control points / yellow - far from control points."
   ]
  },
  {
   "cell_type": "code",
   "execution_count": null,
   "metadata": {
    "colab": {
     "base_uri": "https://localhost:8080/",
     "height": 361
    },
    "executionInfo": {
     "elapsed": 248,
     "status": "error",
     "timestamp": 1737548645580,
     "user": {
      "displayName": "Geraldine Morin",
      "userId": "05550076492585196367"
     },
     "user_tz": -60
    },
    "id": "3MgM4kJfg638",
    "outputId": "90a44271-28c5-45cf-b510-0125f5fad7f6"
   },
   "outputs": [],
   "source": [
    "from utilities import *\n",
    "\n",
    "%matplotlib ipympl\n",
    "graph_interface()"
   ]
  },
  {
   "cell_type": "markdown",
   "metadata": {
    "id": "lAuvNVwKg639"
   },
   "source": [
    "### Remark on Control Points\n",
    "\n",
    "You will notice that if two control points have very close abscissas but very different ordinates, the interpolating polynomial can then take values far from the control points. Indeed, this configuration forces the polynomial to have a high local derivative given by:\n",
    "\n",
    "$ f'(x_i) = \\frac{y_{i+1} - y_i}{x_{i+1} - x_i} $\n",
    "\n",
    "This leads to very significant oscillations."
   ]
  },
  {
   "cell_type": "code",
   "execution_count": null,
   "metadata": {
    "id": "3HPVyMOeg639"
   },
   "outputs": [],
   "source": [
    "from utilities import *\n",
    "\n",
    "%matplotlib ipympl\n",
    "\n",
    "anim_manager = AnimationManager()\n",
    "anim_manager.create_animation()"
   ]
  },
  {
   "cell_type": "markdown",
   "metadata": {
    "id": "omGI2d3qg639"
   },
   "source": [
    "## Neville's Algorithm\n",
    "\n",
    "Neville's algorithm is a polynomial interpolation method that allows finding an interpolated value for a given $ t$ using data points $ (X_i, Y_i) $. Beware that we are here in the functionnal setting. Here is a detailed explanation of the algorithm:\n",
    "\n",
    "1. **Initialization**:\n",
    "    - Let $ X = [X_0, X_1, ..., X_n]$ be the abscissas of the data points.\n",
    "    - Let $ Y = [Y_0, Y_1, ..., Y_n]$ be the ordinates of the data points.\n",
    "    - Let $ x $ be the value for which we want to interpolate.\n",
    "\n",
    "2. **Neville's Table**:\n",
    "    - Neville's algorithm computes row by row a table $ P$ of dimension $ (n+1) \\times (n+1)$ where $ P[i][j]$ represents the interpolated value obtained using the points $ (X_i, Y_i), (X_{i+1}, Y_{i+1}), ..., (X_{i+j}, Y_{i+j})$ for the value $ x$.\n",
    "    - As seen in class, you do not need to create the table but Neville's algorithm can be computed **in place**, that is, computation of the new row replaces the old row. Below we explain the algorithm on the grid, but be sure that your implementation does not use more than a vector of $O(n)$ values to store the computation. \n",
    "\n",
    "3. **Initialization of the First Column**:\n",
    "    - For each $ i$ from 0 to $ n$:\n",
    "      $\n",
    "      P[i][0] = Y_i\n",
    "      $\n",
    "\n",
    "4. **Calculation of the Other Columns**:\n",
    "    - For each $ j$ from 1 to $ n$:\n",
    "        - For each $ i$ from 0 to $ n-j$:\n",
    "          $\n",
    "          P[i][j] = \\frac{(X_{i+j} - x) \\cdot P[i][j-1] + (x - X_i) \\cdot P[i+1][j-1]}{X_{i+j} - X_i}\n",
    "          $\n",
    "\n",
    "5. **Result**:\n",
    "    - The interpolated value for $x$ is given by $ P[0][n]$.\n",
    "\n",
    "\n",
    "This algorithm efficiently finds an interpolated value using Neville's polynomial interpolation."
   ]
  },
  {
   "cell_type": "markdown",
   "metadata": {
    "id": "vtZYeVKlg639"
   },
   "source": [
    "### Implementation:\n",
    "\n",
    "In the file `interpolation.py`, complete the code for the `neville` function:\n",
    "\n",
    "```python\n",
    "def neville(XX, YY, x):\n",
    "```\n",
    "\n",
    "Then, test this function. The interpolated curve obtained should be identical to that of Lagrange."
   ]
  },
  {
   "cell_type": "code",
   "execution_count": null,
   "metadata": {
    "id": "AyX0VOuDg63-"
   },
   "outputs": [],
   "source": [
    "from utilities import *\n",
    "%matplotlib ipympl\n",
    "\n",
    "try :\n",
    "    NevilleInterpolation((0, 10), (0, 10), 5)\n",
    "except Exception as e:\n",
    "        print(\"An error occurred:\")\n",
    "        traceback.print_exc()\n",
    "        print(f\"Exception type: {type(e).__name__}\")\n",
    "        print(f\"Exception description: {e}\")\n",
    "clear_output(wait=True)"
   ]
  },
  {
   "cell_type": "markdown",
   "metadata": {
    "id": "EBeu4ZRBnbne"
   },
   "source": [
    "## Comparison Neville - Lagrange\n",
    "\n"
   ]
  },
  {
   "cell_type": "markdown",
   "metadata": {
    "id": "lxVD6b57g63-"
   },
   "source": [
    "Neville's algorithm is more computationally efficient than Newtonian interpolation when the number of points to evaluate is small (generally less than the number of interpolation points). "
   ]
  },
  {
   "cell_type": "markdown",
   "metadata": {
    "id": "VyfcTP8Ag63-"
   },
   "source": [
    "Let's plot the computation time as a function of the number of evaluation points, while keeping a fixed number of control points."
   ]
  },
  {
   "cell_type": "code",
   "execution_count": null,
   "metadata": {
    "id": "emt2AXI_g63-"
   },
   "outputs": [],
   "source": [
    "from utilities import *\n",
    "\n",
    "\n",
    "nb_pts = 100\n",
    "start = 1\n",
    "end = 150\n",
    "step = 10\n",
    "\n",
    "compare_interpolation_times(nb_pts, start, end, step)\n"
   ]
  },
  {
   "cell_type": "markdown",
   "metadata": {
    "id": "2lah8f5Dg63-"
   },
   "source": [
    "Let's also plot the computation time as a function of the number of control points, while keeping a fixed number of evaluation points."
   ]
  },
  {
   "cell_type": "code",
   "execution_count": null,
   "metadata": {
    "id": "BT_mLQEog63-"
   },
   "outputs": [],
   "source": [
    "from utilities import *\n",
    "\n",
    "\n",
    "fixed_evaluation_points = 100\n",
    "start = 2\n",
    "end = 150\n",
    "step = 10\n",
    "compare_interpolation_times_2(fixed_evaluation_points, start, end, step)"
   ]
  },
  {
   "cell_type": "markdown",
   "metadata": {
    "id": "qf0prBayg63-"
   },
   "source": [
    "In all cases, Neville's method is more efficient than Lagrange's method for a large number of control and evaluation points.\n",
    "\n",
    "#### Therefore, we will use Neville's method for the rest of the lab."
   ]
  },
  {
   "cell_type": "markdown",
   "metadata": {
    "id": "ZZIQLLLqg63-"
   },
   "source": [
    "## Formalization of Oscillations\n",
    "\n",
    "This problem can be formalized. Indeed, if we consider a function $f(x)$ and place points at regular intervals on the curve $C_f$, then the maximum deviation between the function and its interpolation increases indefinitely with the number of points $n$. This phenomenon was discovered and formalized by the German mathematician Carl Runge:\n",
    "\n",
    "$ \\lim_{{n \\to \\infty}} \\max_{x} |f(x) - P_n(x)| \\to \\infty $\n",
    "\n",
    "### Short Explanation\n",
    "\n",
    "By repeated applications of Rolle's theorem, it can be shown that for the case of interpolation with $ n + 1 $ evenly spaced points, there exists a point $ \\xi \\in ]-1, 1[ $ such that\n",
    "\n",
    "$ f(x) - P_n(x) = \\frac{f^{(n+1)}(\\xi)}{(n+1)!} \\prod_{i=0}^{n}(x - x_i). $\n",
    "\n",
    "In the chosen example, the values of the successive derivatives of the function increase with the number of points, thus the oscillations between each interpolation point amplify.\n",
    "\n",
    "Moreover, when the interpolation nodes are evenly spaced, this situation worsens, as explained below. Indeed, in a more general setting, Lagrangian interpolation on equidistant nodes is not optimal. Denoting $(l_i)$ as the basis of Lagrange polynomials related to the points $(x_i)$, we have:\n",
    "\n",
    "$ P_n(x) = \\sum_{i=0}^{n} f(x_i) l_i(x), $\n",
    "\n",
    "from which the following estimation can be derived:\n",
    "\n",
    "$ |P_n(x)| \\leq \\left(\\sum_{i=0}^{n} |l_i(x)|\\right) \\|f\\|_{\\infty} \\leq \\sup_{x \\in [a, b]} \\left(\\sum_{i=0}^{n} |l_i(x)|\\right) \\|f\\|_{\\infty}. $\n",
    "\n",
    "The constant\n",
    "\n",
    "$ \\Lambda_n = \\sup_{x \\in [a, b]} \\left(\\sum_{i=0}^{n} |l_i(x)|\\right) $\n",
    "\n",
    "is called the Lebesgue constant associated with the points $(x_i)$. It is important to note that the Lebesgue constant depends only on the interpolation nodes (it is independent of the function to be interpolated). In the case of equidistant points, this constant can be estimated by:\n",
    "\n",
    "$ \\Lambda_n \\sim \\frac{2^{n+1}}{e \\, n \\ln(n)}, $\n",
    "\n",
    "with $ e $ (Euler's number). Thus, we see that in this case, the Lebesgue constant quickly tends to large values.\n",
    "\n",
    "### Example\n",
    "\n",
    "Consider the following function:\n",
    "\n",
    "$ f(x) = \\frac{1}{1 + 25x^2} $\n",
    "\n",
    "We consider $(n + 1)$ evenly spaced points in the segment $[-1, 1]$:\n",
    "$ x_0 = -1, \\quad x_1 = x_0 + h, \\quad \\ldots, \\quad x_k = x_0 + (k+1)h, \\quad x_n = 1, \\quad \\text{with} \\quad h = \\frac{2}{n} $\n",
    "\n",
    "Finally, we consider the interpolating polynomial of $ f $ at the points $ (x_i) $, i.e., the unique polynomial $ P_n $ of degree less than or equal to $ n $ such that $ P_n(x_i) = f(x_i) $ for all $ i $. We denote this polynomial by $ P_n $.\n",
    "\n",
    "Runge showed that the interpolation error between $ P_n $ and $ f $ tends to infinity as $ n $ increases. In other words, the more points we fix where the polynomial has the same value as $ f $, the worse we approximate the function."
   ]
  },
  {
   "cell_type": "code",
   "execution_count": null,
   "metadata": {
    "id": "KoiBbUBmg63_"
   },
   "outputs": [],
   "source": [
    "from utilities import *\n",
    "\n",
    "%matplotlib widget\n",
    "\n",
    "visualizer = InterpolationVisualizer(start_points=10, end_points=35)\n",
    "visualizer.display()"
   ]
  },
  {
   "cell_type": "markdown",
   "metadata": {
    "id": "i3B6aBbPg63_"
   },
   "source": [
    "### Solution\n",
    "\n",
    "We can minimize the oscillation of interpolating polynomials by using Chebyshev nodes instead of equally spaced points for interpolation. In this case, it can be shown that the interpolation error (i.e., $\\max_{-1 \\leq x \\leq 1} |f(x) - P_n(x)|$) decreases as $ n $ increases.\n",
    "\n",
    "For any positive integer $ n $, the coefficients are given by:\n",
    "\n",
    "$ a_k^{(n)} = \\cos \\left( \\frac{(2k-1)\\pi}{2n} \\right), \\quad \\forall k \\in \\{1, \\ldots, n\\} $\n",
    "\n",
    "### Objective:\n",
    "\n",
    "In the file `interpolation.py`, complete the code for the `tchebycheff_parametrisation` function:\n",
    "\n",
    "```python\n",
    "def tchebycheff_parametrisation(nb_point: int) -> List[float]:\n",
    "```\n",
    "\n",
    "This function calculates the Chebyshev nodes for a given number of points, which can then be used for interpolation to minimize the oscillations."
   ]
  },
  {
   "cell_type": "code",
   "execution_count": 20,
   "metadata": {
    "id": "FrymkcTpg63_"
   },
   "outputs": [
    {
     "name": "stdout",
     "output_type": "stream",
     "text": [
      "OK pour nb_point = 0\n",
      "OK pour nb_point = 1\n",
      "OK pour nb_point = 2\n",
      "OK pour nb_point = 3\n",
      "OK pour nb_point = 4\n",
      "OK pour nb_point = 5\n",
      "OK pour nb_point = 6\n",
      "OK pour nb_point = 7\n",
      "OK pour nb_point = 8\n",
      "OK pour nb_point = 9\n"
     ]
    }
   ],
   "source": [
    "from utilities import *\n",
    "\n",
    "\n",
    "test_tchebycheff_parametrisation()"
   ]
  },
  {
   "cell_type": "markdown",
   "metadata": {
    "id": "-QhJNAamg63_"
   },
   "source": [
    "#### Let's see what happens with a Chebyshev distribution:"
   ]
  },
  {
   "cell_type": "code",
   "execution_count": null,
   "metadata": {
    "id": "3qtGwdWqg63_"
   },
   "outputs": [],
   "source": [
    "from utilities import *\n",
    "\n",
    "\n",
    "vis = InterpolationVisualizer_2(start_points=6, end_points=30)\n",
    "vis.display()"
   ]
  },
  {
   "cell_type": "markdown",
   "metadata": {
    "id": "M7FmpvSS8zCb"
   },
   "source": [
    "# Before leaving the notebook, make sure to clear all the outputs !"
   ]
  }
 ],
 "metadata": {
  "colab": {
   "provenance": [],
   "toc_visible": true
  },
  "kernelspec": {
   "display_name": ".venv",
   "language": "python",
   "name": "python3"
  },
  "language_info": {
   "codemirror_mode": {
    "name": "ipython",
    "version": 3
   },
   "file_extension": ".py",
   "mimetype": "text/x-python",
   "name": "python",
   "nbconvert_exporter": "python",
   "pygments_lexer": "ipython3",
   "version": "3.13.1"
  }
 },
 "nbformat": 4,
 "nbformat_minor": 0
}
