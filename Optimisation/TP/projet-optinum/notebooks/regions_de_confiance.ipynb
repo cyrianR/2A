{
 "cells": [
  {
   "cell_type": "markdown",
   "metadata": {},
   "source": [
    "<center>\n",
    "<h1> TP-Projet d'optimisation numérique </h1>\n",
    "<h1> Algorithme des régions de confiance </h1>\n",
    "</center>"
   ]
  },
  {
   "cell_type": "markdown",
   "metadata": {},
   "source": [
    "# Régions de confiance avec Pas de Cauchy \n",
    "\n",
    "## Implémentation \n",
    "\n",
    "1. Coder l'algorithme du pas de Cauchy dans le fichier `src/cauchy.jl`). La spécification de cet algorithme est donnée dans le fichier.\n",
    "2. Ecrire des tests exhaustifs (qui testent tous les cas de figure possibles) pour votre algorithme du pas de Cauchy. Vous remplirez pour cela le fichier `test/tester_cauchy.jl` sur le modèle des autres fichiers de tests et vous exécuterez dans la cellule de code ci-après ces tests."
   ]
  },
  {
   "cell_type": "code",
   "execution_count": null,
   "metadata": {},
   "outputs": [],
   "source": [
    "include(\"../src/cauchy.jl\")         # votre algorithme\n",
    "include(\"../test/tester_cauchy.jl\") # la fonction pour tester votre algorithme\n",
    "\n",
    "#\n",
    "tester_cauchy(cauchy); # tester l'algorithme"
   ]
  },
  {
   "cell_type": "markdown",
   "metadata": {},
   "source": [
    "3. Coder l'algorithme des régions de confiance (fichier `src/regions_de_confiance.jl`). Sa spécification est donnée dans le fichier.\n",
    "4. Vérifier que les tests ci-dessous passent."
   ]
  },
  {
   "cell_type": "code",
   "execution_count": 11,
   "metadata": {},
   "outputs": [
    {
     "ename": "TestSetException",
     "evalue": "Some tests did not pass: 12 passed, 3 failed, 0 errored, 0 broken.",
     "output_type": "error",
     "traceback": [
      "Some tests did not pass: 12 passed, 3 failed, 0 errored, 0 broken.\n",
      "\n",
      "Stacktrace:\n",
      " [1] finish(ts::Test.DefaultTestSet)\n",
      "   @ Test /mnt/n7fs/ens/tp_cots/julia-1.8.2/share/julia/stdlib/v1.8/Test/src/Test.jl:1092\n",
      " [2] macro expansion\n",
      "   @ /mnt/n7fs/ens/tp_cots/julia-1.8.2/share/julia/stdlib/v1.8/Test/src/Test.jl:1368 [inlined]\n",
      " [3] tester_rc_cauchy(rc::typeof(regions_de_confiance), afficher::Bool)\n",
      "   @ Main ~/Documents/2A/Optimisation/TP/projet-optinum/test/tester_rc_cauchy.jl:31\n",
      " [4] top-level scope\n",
      "   @ ~/Documents/2A/Optimisation/TP/projet-optinum/notebooks/jl_notebook_cell_df34fa98e69747e1a8f8a730347b8e2f_W4sZmlsZQ==.jl:8"
     ]
    }
   ],
   "source": [
    "include(\"../src/regions_de_confiance.jl\")\n",
    "include(\"../test/tester_rc_cauchy.jl\")\n",
    "\n",
    "#\n",
    "afficher = true # si true, alors affiche les résultats des algorithmes\n",
    "\n",
    "#\n",
    "tester_rc_cauchy(regions_de_confiance, afficher);"
   ]
  },
  {
   "cell_type": "markdown",
   "metadata": {},
   "source": [
    "## Interprétation \n",
    "\n",
    "<!-- Pour ces questions, des représentations graphiques sont attendues pour corroborer vos réponses. -->\n",
    "\n",
    "1. Soit la fonction $f_1 \\colon \\mathbb{R}^3 \\to \\mathbb{R}$ définie par\n",
    "$$ \n",
    "    f_1(x_1,x_2, x_3) = 2 (x_1 +x_2 + x_3 -3)^2 + (x_1-x_2)^2 + (x_2 - x_3)^2\n",
    "$$ \n",
    "Quelle relation lie la fonction $f_1$ et son modèle de Taylor à l’ordre 2 ? Comparer alors les performances de l'algorithme de Newton et celui des régions de confiance avec le pas de Cauchy sur cette fonction.\n",
    "\n",
    "2. Le rayon initial de la région de confiance est un paramètre important dans l’analyse\n",
    "de la performance de l’algorithme. Sur quel(s) autre(s) paramètre(s) peut-on jouer\n",
    "pour essayer d’améliorer cette performance ? Étudier l’influence d’au moins deux de\n",
    "ces paramètres. Pour cela vous ferez des tests numériques et donnerez les résultats sous forme de tableaux et de graphiques."
   ]
  },
  {
   "cell_type": "code",
   "execution_count": null,
   "metadata": {},
   "outputs": [],
   "source": [
    "# Expérimentations numériques à faire ici\n",
    "# Vous pouvez utiliser le package Plots pour les affichages de courbes: using Plots"
   ]
  },
  {
   "cell_type": "markdown",
   "metadata": {},
   "source": [
    "# Régions de confiance avec gradient conjugué tronqué\n",
    "\n",
    "## Implémentation \n",
    "\n",
    "1. Implémenter l’algorithme du gradient conjugué tronqué (fichier `src/gct.jl`). Sa spécification est dans le fichier.\n",
    "2. Vérifier que les tests ci-dessous passent."
   ]
  },
  {
   "cell_type": "code",
   "execution_count": 2,
   "metadata": {},
   "outputs": [
    {
     "name": "stdout",
     "output_type": "stream",
     "text": [
      "Gradient conjugué tronqué: \u001b[91m\u001b[1mTest Failed\u001b[22m\u001b[39m at \u001b[39m\u001b[1m/home/crt4254/Documents/2A/Optimisation/TP/projet-optinum/test/tester_gct.jl:34\u001b[22m\n",
      "  Expression: ≈(s, (-Δ * g) / norm(g), atol = tol_test)\n",
      "   Evaluated: [0.0, 0.0] ≈ [-0.4743416490252569, -0.15811388300841897] (atol=0.001)\n",
      "Stacktrace:\n",
      " [1] \u001b[0m\u001b[1mmacro expansion\u001b[22m\n",
      "\u001b[90m   @ \u001b[39m\u001b[90m/mnt/n7fs/ens/tp_cots/julia-1.8.2/share/julia/stdlib/v1.8/Test/src/\u001b[39m\u001b[90m\u001b[4mTest.jl:464\u001b[24m\u001b[39m\u001b[90m [inlined]\u001b[39m\n",
      " [2] \u001b[0m\u001b[1mmacro expansion\u001b[22m\n",
      "\u001b[90m   @ \u001b[39m\u001b[90m~/Documents/2A/Optimisation/TP/projet-optinum/test/\u001b[39m\u001b[90m\u001b[4mtester_gct.jl:34\u001b[24m\u001b[39m\u001b[90m [inlined]\u001b[39m\n",
      " [3] \u001b[0m\u001b[1mmacro expansion\u001b[22m\n",
      "\u001b[90m   @ \u001b[39m\u001b[90m/mnt/n7fs/ens/tp_cots/julia-1.8.2/share/julia/stdlib/v1.8/Test/src/\u001b[39m\u001b[90m\u001b[4mTest.jl:1357\u001b[24m\u001b[39m\u001b[90m [inlined]\u001b[39m\n",
      " [4] \u001b[0m\u001b[1mtester_gct\u001b[22m\u001b[0m\u001b[1m(\u001b[22m\u001b[90mgct\u001b[39m::\u001b[0mtypeof(gct)\u001b[0m\u001b[1m)\u001b[22m\n",
      "\u001b[90m   @ \u001b[39m\u001b[35mMain\u001b[39m \u001b[90m~/Documents/2A/Optimisation/TP/projet-optinum/test/\u001b[39m\u001b[90m\u001b[4mtester_gct.jl:23\u001b[24m\u001b[39m\n",
      "Gradient conjugué tronqué: \u001b[91m\u001b[1mTest Failed\u001b[22m\u001b[39m at \u001b[39m\u001b[1m/home/crt4254/Documents/2A/Optimisation/TP/projet-optinum/test/tester_gct.jl:37\u001b[22m\n",
      "  Expression: ≈(s, [-0.8740776099190263, -0.8221850958502244], atol = tol_test)\n",
      "   Evaluated: [0.0, 0.0] ≈ [-0.8740776099190263, -0.8221850958502244] (atol=0.001)\n",
      "Stacktrace:\n",
      " [1] \u001b[0m\u001b[1mmacro expansion\u001b[22m\n",
      "\u001b[90m   @ \u001b[39m\u001b[90m/mnt/n7fs/ens/tp_cots/julia-1.8.2/share/julia/stdlib/v1.8/Test/src/\u001b[39m\u001b[90m\u001b[4mTest.jl:464\u001b[24m\u001b[39m\u001b[90m [inlined]\u001b[39m\n",
      " [2] \u001b[0m\u001b[1mmacro expansion\u001b[22m\n",
      "\u001b[90m   @ \u001b[39m\u001b[90m~/Documents/2A/Optimisation/TP/projet-optinum/test/\u001b[39m\u001b[90m\u001b[4mtester_gct.jl:37\u001b[24m\u001b[39m\u001b[90m [inlined]\u001b[39m\n",
      " [3] \u001b[0m\u001b[1mmacro expansion\u001b[22m\n",
      "\u001b[90m   @ \u001b[39m\u001b[90m/mnt/n7fs/ens/tp_cots/julia-1.8.2/share/julia/stdlib/v1.8/Test/src/\u001b[39m\u001b[90m\u001b[4mTest.jl:1357\u001b[24m\u001b[39m\u001b[90m [inlined]\u001b[39m\n",
      " [4] \u001b[0m\u001b[1mtester_gct\u001b[22m\u001b[0m\u001b[1m(\u001b[22m\u001b[90mgct\u001b[39m::\u001b[0mtypeof(gct)\u001b[0m\u001b[1m)\u001b[22m\n",
      "\u001b[90m   @ \u001b[39m\u001b[35mMain\u001b[39m \u001b[90m~/Documents/2A/Optimisation/TP/projet-optinum/test/\u001b[39m\u001b[90m\u001b[4mtester_gct.jl:23\u001b[24m\u001b[39m\n",
      "Gradient conjugué tronqué: \u001b[91m\u001b[1mTest Failed\u001b[22m\u001b[39m at \u001b[39m\u001b[1m/home/crt4254/Documents/2A/Optimisation/TP/projet-optinum/test/tester_gct.jl:40\u001b[22m\n",
      "  Expression: ≈(s, -H \\ g, atol = tol_test)\n",
      "   Evaluated: [0.0, 0.0] ≈ [-0.8571428571428571, -1.0] (atol=0.001)\n",
      "Stacktrace:\n",
      " [1] \u001b[0m\u001b[1mmacro expansion\u001b[22m\n",
      "\u001b[90m   @ \u001b[39m\u001b[90m/mnt/n7fs/ens/tp_cots/julia-1.8.2/share/julia/stdlib/v1.8/Test/src/\u001b[39m\u001b[90m\u001b[4mTest.jl:464\u001b[24m\u001b[39m\u001b[90m [inlined]\u001b[39m\n",
      " [2] \u001b[0m\u001b[1mmacro expansion\u001b[22m\n",
      "\u001b[90m   @ \u001b[39m\u001b[90m~/Documents/2A/Optimisation/TP/projet-optinum/test/\u001b[39m\u001b[90m\u001b[4mtester_gct.jl:40\u001b[24m\u001b[39m\u001b[90m [inlined]\u001b[39m\n",
      " [3] \u001b[0m\u001b[1mmacro expansion\u001b[22m\n",
      "\u001b[90m   @ \u001b[39m\u001b[90m/mnt/n7fs/ens/tp_cots/julia-1.8.2/share/julia/stdlib/v1.8/Test/src/\u001b[39m\u001b[90m\u001b[4mTest.jl:1357\u001b[24m\u001b[39m\u001b[90m [inlined]\u001b[39m\n",
      " [4] \u001b[0m\u001b[1mtester_gct\u001b[22m\u001b[0m\u001b[1m(\u001b[22m\u001b[90mgct\u001b[39m::\u001b[0mtypeof(gct)\u001b[0m\u001b[1m)\u001b[22m\n",
      "\u001b[90m   @ \u001b[39m\u001b[35mMain\u001b[39m \u001b[90m~/Documents/2A/Optimisation/TP/projet-optinum/test/\u001b[39m\u001b[90m\u001b[4mtester_gct.jl:23\u001b[24m\u001b[39m\n",
      "Gradient conjugué tronqué: \u001b[91m\u001b[1mTest Failed\u001b[22m\u001b[39m at \u001b[39m\u001b[1m/home/crt4254/Documents/2A/Optimisation/TP/projet-optinum/test/tester_gct.jl:47\u001b[22m\n",
      "  Expression: ≈(s, (-Δ * g) / norm(g), atol = tol_test)\n",
      "   Evaluated: [0.0, 0.0] ≈ [-0.4472135954999579, -0.8944271909999159] (atol=0.001)\n",
      "Stacktrace:\n",
      " [1] \u001b[0m\u001b[1mmacro expansion\u001b[22m\n",
      "\u001b[90m   @ \u001b[39m\u001b[90m/mnt/n7fs/ens/tp_cots/julia-1.8.2/share/julia/stdlib/v1.8/Test/src/\u001b[39m\u001b[90m\u001b[4mTest.jl:464\u001b[24m\u001b[39m\u001b[90m [inlined]\u001b[39m\n",
      " [2] \u001b[0m\u001b[1mmacro expansion\u001b[22m\n",
      "\u001b[90m   @ \u001b[39m\u001b[90m~/Documents/2A/Optimisation/TP/projet-optinum/test/\u001b[39m\u001b[90m\u001b[4mtester_gct.jl:47\u001b[24m\u001b[39m\u001b[90m [inlined]\u001b[39m\n",
      " [3] \u001b[0m\u001b[1mmacro expansion\u001b[22m\n",
      "\u001b[90m   @ \u001b[39m\u001b[90m/mnt/n7fs/ens/tp_cots/julia-1.8.2/share/julia/stdlib/v1.8/Test/src/\u001b[39m\u001b[90m\u001b[4mTest.jl:1357\u001b[24m\u001b[39m\u001b[90m [inlined]\u001b[39m\n",
      " [4] \u001b[0m\u001b[1mtester_gct\u001b[22m\u001b[0m\u001b[1m(\u001b[22m\u001b[90mgct\u001b[39m::\u001b[0mtypeof(gct)\u001b[0m\u001b[1m)\u001b[22m\n",
      "\u001b[90m   @ \u001b[39m\u001b[35mMain\u001b[39m \u001b[90m~/Documents/2A/Optimisation/TP/projet-optinum/test/\u001b[39m\u001b[90m\u001b[4mtester_gct.jl:23\u001b[24m\u001b[39m\n",
      "Gradient conjugué tronqué: \u001b[91m\u001b[1mTest Failed\u001b[22m\u001b[39m at \u001b[39m\u001b[1m/home/crt4254/Documents/2A/Optimisation/TP/projet-optinum/test/tester_gct.jl:51\u001b[22m\n",
      "  Expression: ≈(s, (-Δ * g) / norm(g), atol = tol_test)\n",
      "   Evaluated: [0.0, 0.0] ≈ [-0.5, -0.0] (atol=0.001)\n",
      "Stacktrace:\n",
      " [1] \u001b[0m\u001b[1mmacro expansion\u001b[22m\n",
      "\u001b[90m   @ \u001b[39m\u001b[90m/mnt/n7fs/ens/tp_cots/julia-1.8.2/share/julia/stdlib/v1.8/Test/src/\u001b[39m\u001b[90m\u001b[4mTest.jl:464\u001b[24m\u001b[39m\u001b[90m [inlined]\u001b[39m\n",
      " [2] \u001b[0m\u001b[1mmacro expansion\u001b[22m\n",
      "\u001b[90m   @ \u001b[39m\u001b[90m~/Documents/2A/Optimisation/TP/projet-optinum/test/\u001b[39m\u001b[90m\u001b[4mtester_gct.jl:51\u001b[24m\u001b[39m\u001b[90m [inlined]\u001b[39m\n",
      " [3] \u001b[0m\u001b[1mmacro expansion\u001b[22m\n",
      "\u001b[90m   @ \u001b[39m\u001b[90m/mnt/n7fs/ens/tp_cots/julia-1.8.2/share/julia/stdlib/v1.8/Test/src/\u001b[39m\u001b[90m\u001b[4mTest.jl:1357\u001b[24m\u001b[39m\u001b[90m [inlined]\u001b[39m\n",
      " [4] \u001b[0m\u001b[1mtester_gct\u001b[22m\u001b[0m\u001b[1m(\u001b[22m\u001b[90mgct\u001b[39m::\u001b[0mtypeof(gct)\u001b[0m\u001b[1m)\u001b[22m\n",
      "\u001b[90m   @ \u001b[39m\u001b[35mMain\u001b[39m \u001b[90m~/Documents/2A/Optimisation/TP/projet-optinum/test/\u001b[39m\u001b[90m\u001b[4mtester_gct.jl:23\u001b[24m\u001b[39m\n",
      "Gradient conjugué tronqué: \u001b[91m\u001b[1mTest Failed\u001b[22m\u001b[39m at \u001b[39m\u001b[1m/home/crt4254/Documents/2A/Optimisation/TP/projet-optinum/test/tester_gct.jl:55\u001b[22m\n",
      "  Expression: isapprox(s, [0.48997991959774634, 5.979959839195494], atol = tol_test) || isapprox(s, [-4.489979919597747, -3.979959839195493], atol = tol_test)\n",
      "Stacktrace:\n",
      " [1] \u001b[0m\u001b[1mmacro expansion\u001b[22m\n",
      "\u001b[90m   @ \u001b[39m\u001b[90m/mnt/n7fs/ens/tp_cots/julia-1.8.2/share/julia/stdlib/v1.8/Test/src/\u001b[39m\u001b[90m\u001b[4mTest.jl:464\u001b[24m\u001b[39m\u001b[90m [inlined]\u001b[39m\n",
      " [2] \u001b[0m\u001b[1mmacro expansion\u001b[22m\n",
      "\u001b[90m   @ \u001b[39m\u001b[90m~/Documents/2A/Optimisation/TP/projet-optinum/test/\u001b[39m\u001b[90m\u001b[4mtester_gct.jl:55\u001b[24m\u001b[39m\u001b[90m [inlined]\u001b[39m\n",
      " [3] \u001b[0m\u001b[1mmacro expansion\u001b[22m\n",
      "\u001b[90m   @ \u001b[39m\u001b[90m/mnt/n7fs/ens/tp_cots/julia-1.8.2/share/julia/stdlib/v1.8/Test/src/\u001b[39m\u001b[90m\u001b[4mTest.jl:1357\u001b[24m\u001b[39m\u001b[90m [inlined]\u001b[39m\n",
      " [4] \u001b[0m\u001b[1mtester_gct\u001b[22m\u001b[0m\u001b[1m(\u001b[22m\u001b[90mgct\u001b[39m::\u001b[0mtypeof(gct)\u001b[0m\u001b[1m)\u001b[22m\n",
      "\u001b[90m   @ \u001b[39m\u001b[35mMain\u001b[39m \u001b[90m~/Documents/2A/Optimisation/TP/projet-optinum/test/\u001b[39m\u001b[90m\u001b[4mtester_gct.jl:23\u001b[24m\u001b[39m\n",
      "Gradient conjugué tronqué: \u001b[91m\u001b[1mTest Failed\u001b[22m\u001b[39m at \u001b[39m\u001b[1m/home/crt4254/Documents/2A/Optimisation/TP/projet-optinum/test/tester_gct.jl:62\u001b[22m\n",
      "  Expression: ≈(s, [1.9059020876695578; -2.3167946029410595], atol = tol_test)\n",
      "   Evaluated: [0.0, 0.0] ≈ [1.9059020876695578, -2.3167946029410595] (atol=0.001)\n",
      "Stacktrace:\n",
      " [1] \u001b[0m\u001b[1mmacro expansion\u001b[22m\n",
      "\u001b[90m   @ \u001b[39m\u001b[90m/mnt/n7fs/ens/tp_cots/julia-1.8.2/share/julia/stdlib/v1.8/Test/src/\u001b[39m\u001b[90m\u001b[4mTest.jl:464\u001b[24m\u001b[39m\u001b[90m [inlined]\u001b[39m\n",
      " [2] \u001b[0m\u001b[1mmacro expansion\u001b[22m\n",
      "\u001b[90m   @ \u001b[39m\u001b[90m~/Documents/2A/Optimisation/TP/projet-optinum/test/\u001b[39m\u001b[90m\u001b[4mtester_gct.jl:62\u001b[24m\u001b[39m\u001b[90m [inlined]\u001b[39m\n",
      " [3] \u001b[0m\u001b[1mmacro expansion\u001b[22m\n",
      "\u001b[90m   @ \u001b[39m\u001b[90m/mnt/n7fs/ens/tp_cots/julia-1.8.2/share/julia/stdlib/v1.8/Test/src/\u001b[39m\u001b[90m\u001b[4mTest.jl:1357\u001b[24m\u001b[39m\u001b[90m [inlined]\u001b[39m\n",
      " [4] \u001b[0m\u001b[1mtester_gct\u001b[22m\u001b[0m\u001b[1m(\u001b[22m\u001b[90mgct\u001b[39m::\u001b[0mtypeof(gct)\u001b[0m\u001b[1m)\u001b[22m\n",
      "\u001b[90m   @ \u001b[39m\u001b[35mMain\u001b[39m \u001b[90m~/Documents/2A/Optimisation/TP/projet-optinum/test/\u001b[39m\u001b[90m\u001b[4mtester_gct.jl:23\u001b[24m\u001b[39m\n",
      "Gradient conjugué tronqué: \u001b[91m\u001b[1mTest Failed\u001b[22m\u001b[39m at \u001b[39m\u001b[1m/home/crt4254/Documents/2A/Optimisation/TP/projet-optinum/test/tester_gct.jl:70\u001b[22m\n",
      "  Expression: ≈(s, [-0.5; 0.0], atol = tol_test)\n",
      "   Evaluated: [0.0, 0.0] ≈ [-0.5, 0.0] (atol=0.001)\n",
      "Stacktrace:\n",
      " [1] \u001b[0m\u001b[1mmacro expansion\u001b[22m\n",
      "\u001b[90m   @ \u001b[39m\u001b[90m/mnt/n7fs/ens/tp_cots/julia-1.8.2/share/julia/stdlib/v1.8/Test/src/\u001b[39m\u001b[90m\u001b[4mTest.jl:464\u001b[24m\u001b[39m\u001b[90m [inlined]\u001b[39m\n",
      " [2] \u001b[0m\u001b[1mmacro expansion\u001b[22m\n",
      "\u001b[90m   @ \u001b[39m\u001b[90m~/Documents/2A/Optimisation/TP/projet-optinum/test/\u001b[39m\u001b[90m\u001b[4mtester_gct.jl:70\u001b[24m\u001b[39m\u001b[90m [inlined]\u001b[39m\n",
      " [3] \u001b[0m\u001b[1mmacro expansion\u001b[22m\n",
      "\u001b[90m   @ \u001b[39m\u001b[90m/mnt/n7fs/ens/tp_cots/julia-1.8.2/share/julia/stdlib/v1.8/Test/src/\u001b[39m\u001b[90m\u001b[4mTest.jl:1357\u001b[24m\u001b[39m\u001b[90m [inlined]\u001b[39m\n",
      " [4] \u001b[0m\u001b[1mtester_gct\u001b[22m\u001b[0m\u001b[1m(\u001b[22m\u001b[90mgct\u001b[39m::\u001b[0mtypeof(gct)\u001b[0m\u001b[1m)\u001b[22m\n",
      "\u001b[90m   @ \u001b[39m\u001b[35mMain\u001b[39m \u001b[90m~/Documents/2A/Optimisation/TP/projet-optinum/test/\u001b[39m\u001b[90m\u001b[4mtester_gct.jl:23\u001b[24m\u001b[39m\n",
      "\u001b[0m\u001b[1mTest Summary:             | \u001b[22m\u001b[32m\u001b[1mPass  \u001b[22m\u001b[39m\u001b[91m\u001b[1mFail  \u001b[22m\u001b[39m\u001b[36m\u001b[1mTotal  \u001b[22m\u001b[39m\u001b[0m\u001b[1mTime\u001b[22m\n",
      "Gradient conjugué tronqué | \u001b[32m   1  \u001b[39m\u001b[91m   8  \u001b[39m\u001b[36m    9  \u001b[39m\u001b[0m0.8s\n"
     ]
    },
    {
     "ename": "TestSetException",
     "evalue": "Some tests did not pass: 1 passed, 8 failed, 0 errored, 0 broken.",
     "output_type": "error",
     "traceback": [
      "Some tests did not pass: 1 passed, 8 failed, 0 errored, 0 broken.\n",
      "\n",
      "Stacktrace:\n",
      " [1] finish(ts::Test.DefaultTestSet)\n",
      "   @ Test /mnt/n7fs/ens/tp_cots/julia-1.8.2/share/julia/stdlib/v1.8/Test/src/Test.jl:1092\n",
      " [2] macro expansion\n",
      "   @ /mnt/n7fs/ens/tp_cots/julia-1.8.2/share/julia/stdlib/v1.8/Test/src/Test.jl:1368 [inlined]\n",
      " [3] tester_gct(gct::typeof(gct))\n",
      "   @ Main ~/Documents/2A/Optimisation/TP/projet-optinum/test/tester_gct.jl:23\n",
      " [4] top-level scope\n",
      "   @ ~/Documents/2A/Optimisation/TP/projet-optinum/notebooks/jl_notebook_cell_df34fa98e69747e1a8f8a730347b8e2f_X11sZmlsZQ==.jl:5"
     ]
    }
   ],
   "source": [
    "include(\"../src/gct.jl\")\n",
    "include(\"../test/tester_gct.jl\")\n",
    "\n",
    "#\n",
    "tester_gct(gct);"
   ]
  },
  {
   "cell_type": "markdown",
   "metadata": {},
   "source": [
    "3. Intégrer l’algorithme du gradient conjugué tronqué dans le code des régions de confiance.\n",
    "4. Vérifier que les tests ci-dessous passent."
   ]
  },
  {
   "cell_type": "code",
   "execution_count": 1,
   "metadata": {},
   "outputs": [
    {
     "name": "stdout",
     "output_type": "stream",
     "text": [
      "Affichage des résultats des algorithmes : false\n",
      "\n",
      "RC et gct: \u001b[91m\u001b[1mError During Test\u001b[22m\u001b[39m at \u001b[39m\u001b[1m/home/crt4254/Documents/2A/Optimisation/TP/projet-optinum/test/tester_rc_gct.jl:28\u001b[22m\n",
      "  Got exception outside of a @test\n",
      "  MethodError: no method matching +(::Vector{Int64}, ::Int64)\n",
      "  For element-wise addition, use broadcasting with dot syntax: array .+ scalar\n",
      "  \u001b[0mClosest candidates are:\n",
      "  \u001b[0m  +(::Any, ::Any, \u001b[91m::Any\u001b[39m, \u001b[91m::Any...\u001b[39m) at operators.jl:591\n",
      "  \u001b[0m  +(\u001b[91m::T\u001b[39m, ::T) where T<:Union{Int128, Int16, Int32, Int64, Int8, UInt128, UInt16, UInt32, UInt64, UInt8} at int.jl:87\n",
      "  \u001b[0m  +(\u001b[91m::Rational\u001b[39m, ::Integer) at rational.jl:313\n",
      "  \u001b[0m  ...\n",
      "  Stacktrace:\n",
      "    [1] \u001b[0m\u001b[1mregions_de_confiance\u001b[22m\u001b[0m\u001b[1m(\u001b[22m\u001b[90mf\u001b[39m::\u001b[0mtypeof(fct1), \u001b[90mgradf\u001b[39m::\u001b[0mtypeof(grad_fct1), \u001b[90mhessf\u001b[39m::\u001b[0mtypeof(hess_fct1), \u001b[90mx0\u001b[39m::\u001b[0mVector\u001b[90m{Int64}\u001b[39m; \u001b[90mmax_iter\u001b[39m::\u001b[0mInt64, \u001b[90mtol_abs\u001b[39m::\u001b[0mFloat64, \u001b[90mtol_rel\u001b[39m::\u001b[0mFloat64, \u001b[90mepsilon\u001b[39m::\u001b[0mInt64, \u001b[90mΔ0\u001b[39m::\u001b[0mInt64, \u001b[90mΔmax\u001b[39m::\u001b[0mInt64, \u001b[90mγ1\u001b[39m::\u001b[0mFloat64, \u001b[90mγ2\u001b[39m::\u001b[0mInt64, \u001b[90mη1\u001b[39m::\u001b[0mFloat64, \u001b[90mη2\u001b[39m::\u001b[0mFloat64, \u001b[90malgo_pas\u001b[39m::\u001b[0mString, \u001b[90mmax_iter_gct\u001b[39m::\u001b[0mInt64\u001b[0m\u001b[1m)\u001b[22m\n",
      "  \u001b[90m    @ \u001b[39m\u001b[35mMain\u001b[39m \u001b[90m~/Documents/2A/Optimisation/TP/projet-optinum/src/\u001b[39m\u001b[90m\u001b[4mregions_de_confiance.jl:80\u001b[24m\u001b[39m\n",
      "    [2] \u001b[0m\u001b[1mmacro expansion\u001b[22m\n",
      "  \u001b[90m    @ \u001b[39m\u001b[90m~/Documents/2A/Optimisation/TP/projet-optinum/test/\u001b[39m\u001b[90m\u001b[4mtester_rc_gct.jl:31\u001b[24m\u001b[39m\u001b[90m [inlined]\u001b[39m\n",
      "    [3] \u001b[0m\u001b[1mmacro expansion\u001b[22m\n",
      "  \u001b[90m    @ \u001b[39m\u001b[90m/mnt/n7fs/ens/tp_cots/julia-1.8.2/share/julia/stdlib/v1.8/Test/src/\u001b[39m\u001b[90m\u001b[4mTest.jl:1357\u001b[24m\u001b[39m\u001b[90m [inlined]\u001b[39m\n",
      "    [4] \u001b[0m\u001b[1mtester_rc_gct\u001b[22m\u001b[0m\u001b[1m(\u001b[22m\u001b[90mrc\u001b[39m::\u001b[0mtypeof(regions_de_confiance), \u001b[90mafficher\u001b[39m::\u001b[0mBool\u001b[0m\u001b[1m)\u001b[22m\n",
      "  \u001b[90m    @ \u001b[39m\u001b[35mMain\u001b[39m \u001b[90m~/Documents/2A/Optimisation/TP/projet-optinum/test/\u001b[39m\u001b[90m\u001b[4mtester_rc_gct.jl:31\u001b[24m\u001b[39m\n",
      "    [5] top-level scope\n",
      "  \u001b[90m    @ \u001b[39m\u001b[90m~/Documents/2A/Optimisation/TP/projet-optinum/notebooks/\u001b[39m\u001b[90m\u001b[4mjl_notebook_cell_df34fa98e69747e1a8f8a730347b8e2f_X13sZmlsZQ==.jl:8\u001b[24m\u001b[39m\n",
      "    [6] \u001b[0m\u001b[1meval\u001b[22m\n",
      "  \u001b[90m    @ \u001b[39m\u001b[90m./\u001b[39m\u001b[90m\u001b[4mboot.jl:368\u001b[24m\u001b[39m\u001b[90m [inlined]\u001b[39m\n",
      "    [7] \u001b[0m\u001b[1minclude_string\u001b[22m\u001b[0m\u001b[1m(\u001b[22m\u001b[90mmapexpr\u001b[39m::\u001b[0mtypeof(REPL.softscope), \u001b[90mmod\u001b[39m::\u001b[0mModule, \u001b[90mcode\u001b[39m::\u001b[0mString, \u001b[90mfilename\u001b[39m::\u001b[0mString\u001b[0m\u001b[1m)\u001b[22m\n",
      "  \u001b[90m    @ \u001b[39m\u001b[90mBase\u001b[39m \u001b[90m./\u001b[39m\u001b[90m\u001b[4mloading.jl:1428\u001b[24m\u001b[39m\n",
      "    [8] \u001b[0m\u001b[1m#invokelatest#2\u001b[22m\n",
      "  \u001b[90m    @ \u001b[39m\u001b[90m./\u001b[39m\u001b[90m\u001b[4messentials.jl:729\u001b[24m\u001b[39m\u001b[90m [inlined]\u001b[39m\n",
      "    [9] \u001b[0m\u001b[1minvokelatest\u001b[22m\n",
      "  \u001b[90m    @ \u001b[39m\u001b[90m./\u001b[39m\u001b[90m\u001b[4messentials.jl:726\u001b[24m\u001b[39m\u001b[90m [inlined]\u001b[39m\n",
      "   [10] \u001b[0m\u001b[1m(::VSCodeServer.var\"#217#218\"{VSCodeServer.NotebookRunCellArguments, String})\u001b[22m\u001b[0m\u001b[1m(\u001b[22m\u001b[0m\u001b[1m)\u001b[22m\n",
      "  \u001b[90m    @ \u001b[39m\u001b[36mVSCodeServer\u001b[39m \u001b[90m~/.vscode/extensions/julialang.language-julia-1.127.2/scripts/packages/VSCodeServer/src/\u001b[39m\u001b[90m\u001b[4mserve_notebook.jl:24\u001b[24m\u001b[39m\n",
      "   [11] \u001b[0m\u001b[1mwithpath\u001b[22m\u001b[0m\u001b[1m(\u001b[22m\u001b[90mf\u001b[39m::\u001b[0mVSCodeServer.var\"#217#218\"\u001b[90m{VSCodeServer.NotebookRunCellArguments, String}\u001b[39m, \u001b[90mpath\u001b[39m::\u001b[0mString\u001b[0m\u001b[1m)\u001b[22m\n",
      "  \u001b[90m    @ \u001b[39m\u001b[36mVSCodeServer\u001b[39m \u001b[90m~/.vscode/extensions/julialang.language-julia-1.127.2/scripts/packages/VSCodeServer/src/\u001b[39m\u001b[90m\u001b[4mrepl.jl:276\u001b[24m\u001b[39m\n",
      "   [12] \u001b[0m\u001b[1mnotebook_runcell_request\u001b[22m\u001b[0m\u001b[1m(\u001b[22m\u001b[90mconn\u001b[39m::\u001b[0mVSCodeServer.JSONRPC.JSONRPCEndpoint\u001b[90m{Base.PipeEndpoint, Base.PipeEndpoint}\u001b[39m, \u001b[90mparams\u001b[39m::\u001b[0mVSCodeServer.NotebookRunCellArguments\u001b[0m\u001b[1m)\u001b[22m\n",
      "  \u001b[90m    @ \u001b[39m\u001b[36mVSCodeServer\u001b[39m \u001b[90m~/.vscode/extensions/julialang.language-julia-1.127.2/scripts/packages/VSCodeServer/src/\u001b[39m\u001b[90m\u001b[4mserve_notebook.jl:13\u001b[24m\u001b[39m\n",
      "   [13] \u001b[0m\u001b[1mdispatch_msg\u001b[22m\u001b[0m\u001b[1m(\u001b[22m\u001b[90mx\u001b[39m::\u001b[0mVSCodeServer.JSONRPC.JSONRPCEndpoint\u001b[90m{Base.PipeEndpoint, Base.PipeEndpoint}\u001b[39m, \u001b[90mdispatcher\u001b[39m::\u001b[0mVSCodeServer.JSONRPC.MsgDispatcher, \u001b[90mmsg\u001b[39m::\u001b[0mDict\u001b[90m{String, Any}\u001b[39m\u001b[0m\u001b[1m)\u001b[22m\n",
      "  \u001b[90m    @ \u001b[39m\u001b[36mVSCodeServer.JSONRPC\u001b[39m \u001b[90m~/.vscode/extensions/julialang.language-julia-1.127.2/scripts/packages/JSONRPC/src/\u001b[39m\u001b[90m\u001b[4mtyped.jl:67\u001b[24m\u001b[39m\n",
      "   [14] \u001b[0m\u001b[1mserve_notebook\u001b[22m\u001b[0m\u001b[1m(\u001b[22m\u001b[90mpipename\u001b[39m::\u001b[0mString, \u001b[90mdebugger_pipename\u001b[39m::\u001b[0mString, \u001b[90moutputchannel_logger\u001b[39m::\u001b[0mBase.CoreLogging.SimpleLogger; \u001b[90merror_handler\u001b[39m::\u001b[0mvar\"#5#10\"\u001b[90m{String}\u001b[39m\u001b[0m\u001b[1m)\u001b[22m\n",
      "  \u001b[90m    @ \u001b[39m\u001b[36mVSCodeServer\u001b[39m \u001b[90m~/.vscode/extensions/julialang.language-julia-1.127.2/scripts/packages/VSCodeServer/src/\u001b[39m\u001b[90m\u001b[4mserve_notebook.jl:147\u001b[24m\u001b[39m\n",
      "   [15] top-level scope\n",
      "  \u001b[90m    @ \u001b[39m\u001b[90m~/.vscode/extensions/julialang.language-julia-1.127.2/scripts/notebook/\u001b[39m\u001b[90m\u001b[4mnotebook.jl:35\u001b[24m\u001b[39m\n",
      "   [16] \u001b[0m\u001b[1minclude\u001b[22m\u001b[0m\u001b[1m(\u001b[22m\u001b[90mmod\u001b[39m::\u001b[0mModule, \u001b[90m_path\u001b[39m::\u001b[0mString\u001b[0m\u001b[1m)\u001b[22m\n",
      "  \u001b[90m    @ \u001b[39m\u001b[90mBase\u001b[39m \u001b[90m./\u001b[39m\u001b[90m\u001b[4mBase.jl:419\u001b[24m\u001b[39m\n",
      "   [17] \u001b[0m\u001b[1mexec_options\u001b[22m\u001b[0m\u001b[1m(\u001b[22m\u001b[90mopts\u001b[39m::\u001b[0mBase.JLOptions\u001b[0m\u001b[1m)\u001b[22m\n",
      "  \u001b[90m    @ \u001b[39m\u001b[90mBase\u001b[39m \u001b[90m./\u001b[39m\u001b[90m\u001b[4mclient.jl:303\u001b[24m\u001b[39m\n",
      "   [18] \u001b[0m\u001b[1m_start\u001b[22m\u001b[0m\u001b[1m(\u001b[22m\u001b[0m\u001b[1m)\u001b[22m\n",
      "  \u001b[90m    @ \u001b[39m\u001b[90mBase\u001b[39m \u001b[90m./\u001b[39m\u001b[90m\u001b[4mclient.jl:522\u001b[24m\u001b[39m\n",
      "\u001b[0m\u001b[1mTest Summary: | \u001b[22m\u001b[91m\u001b[1mError  \u001b[22m\u001b[39m\u001b[36m\u001b[1mTotal  \u001b[22m\u001b[39m\u001b[0m\u001b[1mTime\u001b[22m\n",
      "RC et gct     | \u001b[91m    1  \u001b[39m\u001b[36m    1  \u001b[39m\u001b[0m2.0s\n"
     ]
    },
    {
     "ename": "TestSetException",
     "evalue": "Some tests did not pass: 0 passed, 0 failed, 1 errored, 0 broken.",
     "output_type": "error",
     "traceback": [
      "Some tests did not pass: 0 passed, 0 failed, 1 errored, 0 broken.\n",
      "\n",
      "Stacktrace:\n",
      " [1] finish(ts::Test.DefaultTestSet)\n",
      "   @ Test /mnt/n7fs/ens/tp_cots/julia-1.8.2/share/julia/stdlib/v1.8/Test/src/Test.jl:1092\n",
      " [2] macro expansion\n",
      "   @ /mnt/n7fs/ens/tp_cots/julia-1.8.2/share/julia/stdlib/v1.8/Test/src/Test.jl:1368 [inlined]\n",
      " [3] tester_rc_gct(rc::typeof(regions_de_confiance), afficher::Bool)\n",
      "   @ Main ~/Documents/2A/Optimisation/TP/projet-optinum/test/tester_rc_gct.jl:31\n",
      " [4] top-level scope\n",
      "   @ ~/Documents/2A/Optimisation/TP/projet-optinum/notebooks/jl_notebook_cell_df34fa98e69747e1a8f8a730347b8e2f_X13sZmlsZQ==.jl:8"
     ]
    }
   ],
   "source": [
    "include(\"../src/regions_de_confiance.jl\")\n",
    "include(\"../test/tester_rc_gct.jl\")\n",
    "\n",
    "#\n",
    "afficher = false # si true, alors affiche les résultats des algorithmes\n",
    "\n",
    "#\n",
    "tester_rc_gct(regions_de_confiance, afficher);"
   ]
  },
  {
   "attachments": {},
   "cell_type": "markdown",
   "metadata": {},
   "source": [
    "## Interprétation  \n",
    "\n",
    "Nous proposons de comparer l'utilisation du pas de Cauchy avec celle du gradient conjugué tronqué dans l'algorithme des régions de confiance.\n",
    "\n",
    "**Remarques.**\n",
    "* Nous vous demandons de réaliser des expérimentations numériques pour les comparaisons demandées ci-après.\n",
    "* Vous devez utiliser l'argument optionnel `max_iter_gct` et la sortie `xs` de l'algorithme des régions de confiance.\n",
    "* Vous pouvez comparer l'écart en norme entre les itérés de l'algorithme et la solution du problème.\n",
    "* Vous trouverez des choses utiles dans le fichier `test/fonctions_de_tests.jl`.\n",
    "\n",
    "1. Comparer dans le cas où l'on force le gradient conjugué tronqué à ne faire qu'une seule itération. Que remarquez vous ?\n",
    "2. Comparer dans le cas général. Que remarquez vous ?\n",
    "3. Quels sont les avantages et inconvénients des deux approches ?"
   ]
  },
  {
   "cell_type": "code",
   "execution_count": null,
   "metadata": {},
   "outputs": [],
   "source": [
    "# Expérimentations numériques à faire ici.\n",
    "# Vous pouvez utiliser le package Plots pour les affichages de courbes: using Plots"
   ]
  }
 ],
 "metadata": {
  "kernelspec": {
   "display_name": "Julia 1.8.2",
   "language": "julia",
   "name": "julia-1.8"
  },
  "language_info": {
   "file_extension": ".jl",
   "mimetype": "application/julia",
   "name": "julia",
   "version": "1.8.2"
  }
 },
 "nbformat": 4,
 "nbformat_minor": 4
}
