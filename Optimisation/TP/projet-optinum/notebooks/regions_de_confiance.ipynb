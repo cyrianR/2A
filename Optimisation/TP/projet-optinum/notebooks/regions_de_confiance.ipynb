{
 "cells": [
  {
   "cell_type": "markdown",
   "metadata": {},
   "source": [
    "<center>\n",
    "<h1> TP-Projet d'optimisation numérique </h1>\n",
    "<h1> Algorithme des régions de confiance </h1>\n",
    "</center>"
   ]
  },
  {
   "cell_type": "markdown",
   "metadata": {},
   "source": [
    "# Régions de confiance avec Pas de Cauchy \n",
    "\n",
    "## Implémentation \n",
    "\n",
    "1. Coder l'algorithme du pas de Cauchy dans le fichier `src/cauchy.jl`). La spécification de cet algorithme est donnée dans le fichier.\n",
    "2. Ecrire des tests exhaustifs (qui testent tous les cas de figure possibles) pour votre algorithme du pas de Cauchy. Vous remplirez pour cela le fichier `test/tester_cauchy.jl` sur le modèle des autres fichiers de tests et vous exécuterez dans la cellule de code ci-après ces tests."
   ]
  },
  {
   "cell_type": "code",
   "execution_count": 1,
   "metadata": {},
   "outputs": [
    {
     "name": "stdout",
     "output_type": "stream",
     "text": [
      "\u001b[0m\u001b[1mTest Summary: | \u001b[22m\u001b[32m\u001b[1mPass  \u001b[22m\u001b[39m\u001b[36m\u001b[1mTotal  \u001b[22m\u001b[39m\u001b[0m\u001b[1mTime\u001b[22m\n",
      "Pas de Cauchy | \u001b[32m   4  \u001b[39m\u001b[36m    4  \u001b[39m\u001b[0m0.4s\n"
     ]
    }
   ],
   "source": [
    "include(\"../src/cauchy.jl\")         # votre algorithme\n",
    "include(\"../test/tester_cauchy.jl\") # la fonction pour tester votre algorithme\n",
    "\n",
    "#\n",
    "tester_cauchy(cauchy); # tester l'algorithme"
   ]
  },
  {
   "cell_type": "markdown",
   "metadata": {},
   "source": [
    "3. Coder l'algorithme des régions de confiance (fichier `src/regions_de_confiance.jl`). Sa spécification est donnée dans le fichier.\n",
    "4. Vérifier que les tests ci-dessous passent."
   ]
  },
  {
   "cell_type": "code",
   "execution_count": 2,
   "metadata": {},
   "outputs": [
    {
     "name": "stdout",
     "output_type": "stream",
     "text": [
      "Affichage des résultats des algorithmes : true\n",
      "\n",
      "-------------------------------------------------------------------------\n",
      "\u001b[34m\u001b[1mRésultats de : RC et cauchy appliqué à f1:\u001b[22m\u001b[39m\n",
      "  * x0       = [1, 0, 0]\n",
      "  * x_sol    = [1.0000065049853921, 1.000000873235793, 0.9999952414861938]\n",
      "  * f(x_sol) = 7.71589405988668e-11\n",
      "  * nb_iters = 33\n",
      "  * flag     = 2\n",
      "  * solution = [1, 1, 1]\n",
      "-------------------------------------------------------------------------\n",
      "\u001b[34m\u001b[1mRésultats de : RC et cauchy appliqué à f1:\u001b[22m\u001b[39m\n",
      "  * x0       = [10.0, 3.0, -2.2]\n",
      "  * x_sol    = [1.000003643199092, 0.9999997146801121, 0.9999957861612833]\n",
      "  * f(x_sol) = 3.233185493810428e-11\n",
      "  * nb_iters = 34\n",
      "  * flag     = 2\n",
      "  * solution = [1, 1, 1]\n",
      "-------------------------------------------------------------------------\n",
      "\u001b[34m\u001b[1mRésultats de : RC et cauchy appliqué à f2:\u001b[22m\u001b[39m\n",
      "  * x0       = [-1.2, 1.0]\n",
      "  * x_sol    = [0.999352919780472, 0.9987042941117394]\n",
      "  * f(x_sol) = 4.19098603746544e-7\n",
      "  * nb_iters = 5000\n",
      "  * flag     = 3\n",
      "  * solution = [1, 1]\n",
      "-------------------------------------------------------------------------\n",
      "\u001b[34m\u001b[1mRésultats de : RC et cauchy appliqué à f2:\u001b[22m\u001b[39m\n",
      "  * x0       = [10, 0]\n",
      "  * x_sol    = [0.9961677295959247, 0.9923393628794702]\n",
      "  * f(x_sol) = 1.4697922915267688e-5\n",
      "  * nb_iters = 864\n",
      "  * flag     = 0\n",
      "  * solution = [1, 1]\n",
      "-------------------------------------------------------------------------\n",
      "\u001b[34m\u001b[1mRésultats de : RC et cauchy appliqué à f2:\u001b[22m\u001b[39m\n",
      "  * x0       = [0.0, 0.005000000000000001]\n",
      "  * x_sol    = [0.9998396449224052, 0.9996777929517464]\n",
      "  * f(x_sol) = 2.5945584061704288e-8\n",
      "  * nb_iters = 4512\n",
      "  * flag     = 2\n",
      "  * solution = [1, 1]\n",
      "\u001b[0m\u001b[1mTest Summary:        | \u001b[22m\u001b[32m\u001b[1mPass  \u001b[22m\u001b[39m\u001b[36m\u001b[1mTotal  \u001b[22m\u001b[39m\u001b[0m\u001b[1mTime\u001b[22m\n",
      "RC et pas de Cauchy  | \u001b[32m  15  \u001b[39m\u001b[36m   15  \u001b[39m\u001b[0m3.2s\n"
     ]
    }
   ],
   "source": [
    "include(\"../src/regions_de_confiance.jl\")\n",
    "include(\"../test/tester_rc_cauchy.jl\")\n",
    "\n",
    "#\n",
    "afficher = true # si true, alors affiche les résultats des algorithmes\n",
    "\n",
    "#\n",
    "tester_rc_cauchy(regions_de_confiance, afficher);"
   ]
  },
  {
   "cell_type": "markdown",
   "metadata": {},
   "source": [
    "## Interprétation \n",
    "\n",
    "<!-- Pour ces questions, des représentations graphiques sont attendues pour corroborer vos réponses. -->\n",
    "\n",
    "1. Soit la fonction $f_1 \\colon \\mathbb{R}^3 \\to \\mathbb{R}$ définie par\n",
    "$$ \n",
    "    f_1(x_1,x_2, x_3) = 2 (x_1 +x_2 + x_3 -3)^2 + (x_1-x_2)^2 + (x_2 - x_3)^2\n",
    "$$ \n",
    "Quelle relation lie la fonction $f_1$ et son modèle de Taylor à l’ordre 2 ? Comparer alors les performances de l'algorithme de Newton et celui des régions de confiance avec le pas de Cauchy sur cette fonction.\n",
    "\n",
    "2. Le rayon initial de la région de confiance est un paramètre important dans l’analyse\n",
    "de la performance de l’algorithme. Sur quel(s) autre(s) paramètre(s) peut-on jouer\n",
    "pour essayer d’améliorer cette performance ? Étudier l’influence d’au moins deux de\n",
    "ces paramètres. Pour cela vous ferez des tests numériques et donnerez les résultats sous forme de tableaux et de graphiques."
   ]
  },
  {
   "cell_type": "markdown",
   "metadata": {},
   "source": [
    "## REPONSES\n",
    "\n",
    "1 .\n",
    "C'est la même fonction que pour Newton, f1 est déjà quadratique donc égale à son développement d'ordre 2.\n",
    "Pour comparer Newton et régions de confiance, nous étudions seulement le nombre d'itérations (pour un même point initial) que donne chaque algorithme car c'est une bonne estimation de leur efficacité. (voir code ci-dessous)\n",
    "On obtient bien la même solution (heureusement) mais on remarque que l'algorithme de Newton fini en 1 seule itération sur le flag de la condition d'arrêt CN1 tandis que l'algorithme des régions de confiance termine en 33 itérations sur le flag de la condition d'arrêt de stagnation de la fonction.\n",
    "L'algorithme de Newton est donc bien plus efficace pour les fonctions quadratiques comme f1 puisque l'arrêt sera atteint en 1 itération au maximum.\n",
    "Dans le cas des régions de confiance, même si la fonction est quadratique et qu'on utilise aussi une approximation de Taylor à l'ordre 2, la restriction à la  région de confiance ne permet par d'atteindre directement la solution, surtout si le rayon de celle-ci est petit.\n",
    "\n",
    "2 .\n",
    "Pour améliorer la vitesse de convergence de l'algorithme des régions de confiance, nous pouvons en particulier jouer sur les paramètres Δmax, γ1, γ2, η1 et η2 qui sont des seuils qui maîtrisent la mise à jour de l'itéré et la diminution ou l'augmentation de la région de confiance. Bien sûr tous les autres paramètres peuvent influencer sur la vitesse de convergence mais ce n'est pas spécialement leurs rôle, sauf peut être le point initial choisi qui pourrait être approximé à priori pour se placer directement proche d'une solution.\n"
   ]
  },
  {
   "cell_type": "code",
   "execution_count": null,
   "metadata": {},
   "outputs": [
    {
     "name": "stdout",
     "output_type": "stream",
     "text": [
      "Comparaison des algorithmes de Newton et des régions de confiance avec pas de Cauchy sur f1 :\n",
      "Algorithme de Newton :\n",
      "  xsol = [1.0, 1.0, 0.9999999999999999]\n",
      "  f_sol = 1.232595164407831e-32\n",
      "  flag = 0\n",
      "  nb_iters = 1\n",
      "--------\n",
      "Algorithme des régions de confiance avec Cauchy :\n",
      "  xsol = [1.0000065049853921, 1.000000873235793, 0.9999952414861938]\n",
      "  f_sol = 7.71589405988668e-11\n",
      "  flag = 2\n",
      "  nb_iters = 33\n"
     ]
    }
   ],
   "source": [
    "# Comparaison des performances Newton - Régions de confiance avec pas de Cauchy\n",
    "\n",
    "include(\"../src/regions_de_confiance.jl\")\n",
    "include(\"../src/newton.jl\")\n",
    "include(\"../test/fonctions_de_tests.jl\")\n",
    "\n",
    "x_sol_newton, f_sol_newton, flag_newton, nb_iters_newton, _ = newton(fct1, grad_fct1, hess_fct1, pts1.x011)\n",
    "x_sol_rc, f_sol_rc, flag_rc, nb_iters_rc, xs_rc = regions_de_confiance(fct1, grad_fct1, hess_fct1, pts1.x011, algo_pas=\"cauchy\")\n",
    "\n",
    "println(\"Comparaison des algorithmes de Newton et des régions de confiance avec pas de Cauchy sur f1 :\")\n",
    "println(\"Algorithme de Newton :\")\n",
    "println(\"  xsol = \", x_sol_newton)\n",
    "println(\"  f_sol = \", f_sol_newton)\n",
    "println(\"  flag = \", flag_newton)\n",
    "println(\"  nb_iters = \", nb_iters_newton)\n",
    "println(\"--------\")\n",
    "println(\"Algorithme des régions de confiance avec Cauchy :\")\n",
    "println(\"  xsol = \", x_sol_rc)\n",
    "println(\"  f_sol = \", f_sol_rc)\n",
    "println(\"  flag = \", flag_rc)\n",
    "println(\"  nb_iters = \", nb_iters_rc)\n"
   ]
  },
  {
   "cell_type": "code",
   "execution_count": 8,
   "metadata": {},
   "outputs": [
    {
     "name": "stderr",
     "output_type": "stream",
     "text": [
      "\u001b[91m\u001b[1mERROR: \u001b[22m\u001b[39mLoadError: InitError: could not load library \"libcurl.so.4\"\n",
      "/home/cycy/.julia/artifacts/c951fb23b5652def1dea483af7095a38f3b3cefd/lib/libssl.so: version `OPENSSL_3.2.0' not found (required by /usr/bin/../lib/julia/../libcurl.so.4)\n",
      "Stacktrace:\n",
      " [1] \u001b[0m\u001b[1mdlopen\u001b[22m\u001b[90m (repeats 2 times)\u001b[39m\n",
      "\u001b[90m   @\u001b[39m \u001b[90m./\u001b[39m\u001b[90m\u001b[4mlibdl.jl:119\u001b[24m\u001b[39m\u001b[90m [inlined]\u001b[39m\n",
      " [2] \u001b[0m\u001b[1m__init__\u001b[22m\u001b[0m\u001b[1m(\u001b[22m\u001b[0m\u001b[1m)\u001b[22m\n",
      "\u001b[90m   @\u001b[39m \u001b[35mLibCURL_jll\u001b[39m \u001b[90m/usr/share/julia/stdlib/v1.11/LibCURL_jll/src/\u001b[39m\u001b[90m\u001b[4mLibCURL_jll.jl:29\u001b[24m\u001b[39m\n",
      " [3] \u001b[0m\u001b[1minclude\u001b[22m\u001b[0m\u001b[1m(\u001b[22m\u001b[90mx\u001b[39m::\u001b[0mString\u001b[0m\u001b[1m)\u001b[22m\n",
      "\u001b[90m   @\u001b[39m \u001b[36mGR.GRPreferences\u001b[39m \u001b[90m~/.julia/packages/GR/ZKzxA/src/\u001b[39m\u001b[90m\u001b[4mpreferences.jl:1\u001b[24m\u001b[39m\n",
      " [4] top-level scope\n",
      "\u001b[90m   @\u001b[39m \u001b[90m~/.julia/packages/GR/ZKzxA/src/\u001b[39m\u001b[90m\u001b[4mpreferences.jl:18\u001b[24m\u001b[39m\n",
      " [5] \u001b[0m\u001b[1minclude\u001b[22m\u001b[0m\u001b[1m(\u001b[22m\u001b[90mx\u001b[39m::\u001b[0mString\u001b[0m\u001b[1m)\u001b[22m\n",
      "\u001b[90m   @\u001b[39m \u001b[36mGR\u001b[39m \u001b[90m~/.julia/packages/GR/ZKzxA/src/\u001b[39m\u001b[90m\u001b[4mGR.jl:20\u001b[24m\u001b[39m\n",
      " [6] top-level scope\n",
      "\u001b[90m   @\u001b[39m \u001b[90m~/.julia/packages/GR/ZKzxA/src/\u001b[39m\u001b[90m\u001b[4mGR.jl:283\u001b[24m\u001b[39m\n",
      " [7] top-level scope\n",
      "\u001b[90m   @\u001b[39m \u001b[90m\u001b[4mstdin:6\u001b[24m\u001b[39m\n",
      "during initialization of module LibCURL_jll\n",
      "in expression starting at /home/cycy/.julia/packages/GR/ZKzxA/src/downloader.jl:1\n",
      "in expression starting at /home/cycy/.julia/packages/GR/ZKzxA/src/preferences.jl:1\n",
      "in expression starting at /home/cycy/.julia/packages/GR/ZKzxA/src/GR.jl:1\n",
      "in expression starting at stdin:6\n",
      "\u001b[91m\u001b[1mERROR: \u001b[22m\u001b[39mLoadError: Failed to precompile GR [28b8d3ca-fb5f-59d9-8090-bfdbd6d07a71] to \"/home/cycy/.julia/compiled/v1.11/GR/jl_ruO1l5\".\n",
      "Stacktrace:\n",
      " [1] \u001b[0m\u001b[1m(::Base.var\"#1110#1111\"{Base.PkgId})\u001b[22m\u001b[0m\u001b[1m(\u001b[22m\u001b[0m\u001b[1m)\u001b[22m\n",
      "\u001b[90m   @\u001b[39m \u001b[90mBase\u001b[39m \u001b[90m./\u001b[39m\u001b[90m\u001b[4mloading.jl:2579\u001b[24m\u001b[39m\n",
      " [2] \u001b[0m\u001b[1mmkpidlock\u001b[22m\u001b[0m\u001b[1m(\u001b[22m\u001b[90mf\u001b[39m::\u001b[0mBase.var\"#1110#1111\"\u001b[90m{Base.PkgId}\u001b[39m, \u001b[90mat\u001b[39m::\u001b[0mString, \u001b[90mpid\u001b[39m::\u001b[0mInt32; \u001b[90mkwopts\u001b[39m::\u001b[0m@Kwargs\u001b[90m{stale_age::Int64, wait::Bool}\u001b[39m\u001b[0m\u001b[1m)\u001b[22m\n",
      "\u001b[90m   @\u001b[39m \u001b[35mFileWatching.Pidfile\u001b[39m \u001b[90m/usr/share/julia/stdlib/v1.11/FileWatching/src/\u001b[39m\u001b[90m\u001b[4mpidfile.jl:95\u001b[24m\u001b[39m\n",
      " [3] top-level scope\n",
      "\u001b[90m   @\u001b[39m \u001b[90m~/.julia/packages/Plots/Ec1L1/src/\u001b[39m\u001b[90m\u001b[4mbackends.jl:381\u001b[24m\u001b[39m\n",
      "in expression starting at /home/cycy/.julia/packages/Plots/Ec1L1/src/init.jl:108\n",
      "in expression starting at /home/cycy/.julia/packages/Plots/Ec1L1/src/Plots.jl:1\n",
      "in expression starting at stdin:6\n"
     ]
    },
    {
     "ename": "ErrorException",
     "evalue": "Failed to precompile Plots [91a5bcdd-55d7-5caf-9e0b-520d859cae80] to \"/home/cycy/.julia/compiled/v1.11/Plots/jl_OzjJxb\".",
     "output_type": "error",
     "traceback": [
      "Failed to precompile Plots [91a5bcdd-55d7-5caf-9e0b-520d859cae80] to \"/home/cycy/.julia/compiled/v1.11/Plots/jl_OzjJxb\".\n",
      "\n",
      "Stacktrace:\n",
      "  [1] (::Base.var\"#1110#1111\"{Base.PkgId})()\n",
      "    @ Base ./loading.jl:2579\n",
      "  [2] mkpidlock(f::Base.var\"#1110#1111\"{Base.PkgId}, at::String, pid::Int32; kwopts::@Kwargs{stale_age::Int64, wait::Bool})\n",
      "    @ FileWatching.Pidfile /usr/share/julia/stdlib/v1.11/FileWatching/src/pidfile.jl:95\n",
      "  [3] eval\n",
      "    @ ./boot.jl:430 [inlined]\n",
      "  [4] include_string(mapexpr::typeof(REPL.softscope), mod::Module, code::String, filename::String)\n",
      "    @ Base ./loading.jl:2734\n",
      "  [5] #invokelatest#2\n",
      "    @ ./essentials.jl:1055 [inlined]\n",
      "  [6] invokelatest\n",
      "    @ ./essentials.jl:1052 [inlined]\n",
      "  [7] (::VSCodeServer.var\"#217#218\"{VSCodeServer.NotebookRunCellArguments, String})()\n",
      "    @ VSCodeServer ~/.vscode-oss/extensions/julialang.language-julia-1.127.2-universal/scripts/packages/VSCodeServer/src/serve_notebook.jl:24\n",
      "  [8] withpath(f::VSCodeServer.var\"#217#218\"{VSCodeServer.NotebookRunCellArguments, String}, path::String)\n",
      "    @ VSCodeServer ~/.vscode-oss/extensions/julialang.language-julia-1.127.2-universal/scripts/packages/VSCodeServer/src/repl.jl:276\n",
      "  [9] notebook_runcell_request(conn::VSCodeServer.JSONRPC.JSONRPCEndpoint{Base.PipeEndpoint, Base.PipeEndpoint}, params::VSCodeServer.NotebookRunCellArguments)\n",
      "    @ VSCodeServer ~/.vscode-oss/extensions/julialang.language-julia-1.127.2-universal/scripts/packages/VSCodeServer/src/serve_notebook.jl:13\n",
      " [10] dispatch_msg(x::VSCodeServer.JSONRPC.JSONRPCEndpoint{Base.PipeEndpoint, Base.PipeEndpoint}, dispatcher::VSCodeServer.JSONRPC.MsgDispatcher, msg::Dict{String, Any})\n",
      "    @ VSCodeServer.JSONRPC ~/.vscode-oss/extensions/julialang.language-julia-1.127.2-universal/scripts/packages/JSONRPC/src/typed.jl:67\n",
      " [11] serve_notebook(pipename::String, debugger_pipename::String, outputchannel_logger::Base.CoreLogging.SimpleLogger; error_handler::var\"#5#10\"{String})\n",
      "    @ VSCodeServer ~/.vscode-oss/extensions/julialang.language-julia-1.127.2-universal/scripts/packages/VSCodeServer/src/serve_notebook.jl:147\n",
      " [12] top-level scope\n",
      "    @ ~/.vscode-oss/extensions/julialang.language-julia-1.127.2-universal/scripts/notebook/notebook.jl:35"
     ]
    }
   ],
   "source": [
    "# Etude de l'influence des paramètres γ2 et γ1 dans les régions de confiance\n",
    "\n",
    "using Plots\n",
    "\n",
    "function nb_iter_rc_γ2(γ2::Real)\n",
    "    x_sol, f_sol, flag, nb_iters, xs = regions_de_confiance(fct1, grad_fct1, hess_fct1, pts1.x011, algo_pas=\"cauchy\")\n",
    "    return nb_iters\n",
    "end\n",
    "\n",
    "γ2 = 1.1:0.1:10\n",
    "iters = [nb_iter_rc_γ2(x) for x in γ2]\n",
    "\n",
    "p = plot(\n",
    "    γ2,\n",
    "    iters,\n",
    "    xlabel=\"γ2\",\n",
    "    ylabel=\"Nombre d'itérations\",\n",
    "    title=\"Nombre d'itérations en fonction de γ2\",\n",
    "    lw=2,\n",
    "    legend=false\n",
    ")\n",
    "\n",
    "display(p)\n"
   ]
  },
  {
   "cell_type": "markdown",
   "metadata": {},
   "source": [
    "# Régions de confiance avec gradient conjugué tronqué\n",
    "\n",
    "## Implémentation \n",
    "\n",
    "1. Implémenter l’algorithme du gradient conjugué tronqué (fichier `src/gct.jl`). Sa spécification est dans le fichier.\n",
    "2. Vérifier que les tests ci-dessous passent."
   ]
  },
  {
   "cell_type": "code",
   "execution_count": 9,
   "metadata": {},
   "outputs": [
    {
     "name": "stdout",
     "output_type": "stream",
     "text": [
      "\u001b[0m\u001b[1mTest Summary:             | \u001b[22m\u001b[32m\u001b[1mPass  \u001b[22m\u001b[39m\u001b[36m\u001b[1mTotal  \u001b[22m\u001b[39m\u001b[0m\u001b[1mTime\u001b[22m\n",
      "Gradient conjugué tronqué | \u001b[32m   9  \u001b[39m\u001b[36m    9  \u001b[39m\u001b[0m0.0s\n"
     ]
    }
   ],
   "source": [
    "include(\"../src/gct.jl\")\n",
    "include(\"../test/tester_gct.jl\")\n",
    "\n",
    "#\n",
    "tester_gct(gct);"
   ]
  },
  {
   "cell_type": "markdown",
   "metadata": {},
   "source": [
    "3. Intégrer l’algorithme du gradient conjugué tronqué dans le code des régions de confiance.\n",
    "4. Vérifier que les tests ci-dessous passent."
   ]
  },
  {
   "cell_type": "code",
   "execution_count": 4,
   "metadata": {},
   "outputs": [
    {
     "name": "stdout",
     "output_type": "stream",
     "text": [
      "Affichage des résultats des algorithmes : true\n",
      "\n",
      "-------------------------------------------------------------------------\n",
      "\u001b[34m\u001b[1mRésultats de : RC et gct appliqué à f1:\u001b[22m\u001b[39m\n",
      "  * x0       = [1, 0, 0]\n",
      "  * x_sol    = [1.0000000000000007, 1.0, 1.0]\n",
      "  * f(x_sol) = 2.0214560696288428e-30\n",
      "  * nb_iters = 1\n",
      "  * flag     = 0\n",
      "  * solution = [1, 1, 1]\n",
      "-------------------------------------------------------------------------\n",
      "\u001b[34m\u001b[1mRésultats de : RC et gct appliqué à f1:\u001b[22m\u001b[39m\n",
      "  * x0       = [10.0, 3.0, -2.2]\n",
      "  * x_sol    = [1.0, 1.0, 1.0]\n",
      "  * f(x_sol) = 0.0\n",
      "  * nb_iters = 3\n",
      "  * flag     = 0\n",
      "  * solution = [1, 1, 1]\n",
      "-------------------------------------------------------------------------\n",
      "\u001b[34m\u001b[1mRésultats de : RC et gct appliqué à f2:\u001b[22m\u001b[39m\n",
      "  * x0       = [-1.2, 1.0]\n",
      "  * x_sol    = [0.999999674378009, 0.9999993478371609]\n",
      "  * f(x_sol) = 1.0611413034983129e-13\n",
      "  * nb_iters = 31\n",
      "  * flag     = 0\n",
      "  * solution = [1, 1]\n",
      "-------------------------------------------------------------------------\n",
      "\u001b[34m\u001b[1mRésultats de : RC et gct appliqué à f2:\u001b[22m\u001b[39m\n",
      "  * x0       = [10, 0]\n",
      "  * x_sol    = [1.000003518300986, 1.0000066949336197]\n",
      "  * f(x_sol) = 2.4053014025360875e-11\n",
      "  * nb_iters = 44\n",
      "  * flag     = 0\n",
      "  * solution = [1, 1]\n",
      "-------------------------------------------------------------------------\n",
      "\u001b[34m\u001b[1mRésultats de : RC et gct appliqué à f2:\u001b[22m\u001b[39m\n",
      "  * x0       = [0.0, 0.005000000000000001]\n",
      "  * x_sol    = [0.9999999999998994, 0.9999999999996207]\n",
      "  * f(x_sol) = 3.1813581453548166e-24\n",
      "  * nb_iters = 19\n",
      "  * flag     = 0\n",
      "  * solution = [1, 1]\n",
      "\u001b[0m\u001b[1mTest Summary: | \u001b[22m\u001b[32m\u001b[1mPass  \u001b[22m\u001b[39m\u001b[36m\u001b[1mTotal  \u001b[22m\u001b[39m\u001b[0m\u001b[1mTime\u001b[22m\n",
      "RC et gct     | \u001b[32m  15  \u001b[39m\u001b[36m   15  \u001b[39m\u001b[0m0.9s\n"
     ]
    }
   ],
   "source": [
    "include(\"../src/regions_de_confiance.jl\")\n",
    "include(\"../test/tester_rc_gct.jl\")\n",
    "\n",
    "#\n",
    "afficher = true # si true, alors affiche les résultats des algorithmes\n",
    "\n",
    "#\n",
    "tester_rc_gct(regions_de_confiance, afficher);"
   ]
  },
  {
   "attachments": {},
   "cell_type": "markdown",
   "metadata": {},
   "source": [
    "## Interprétation  \n",
    "\n",
    "Nous proposons de comparer l'utilisation du pas de Cauchy avec celle du gradient conjugué tronqué dans l'algorithme des régions de confiance.\n",
    "\n",
    "**Remarques.**\n",
    "* Nous vous demandons de réaliser des expérimentations numériques pour les comparaisons demandées ci-après.\n",
    "* Vous devez utiliser l'argument optionnel `max_iter_gct` et la sortie `xs` de l'algorithme des régions de confiance.\n",
    "* Vous pouvez comparer l'écart en norme entre les itérés de l'algorithme et la solution du problème.\n",
    "* Vous trouverez des choses utiles dans le fichier `test/fonctions_de_tests.jl`.\n",
    "\n",
    "1. Comparer dans le cas où l'on force le gradient conjugué tronqué à ne faire qu'une seule itération. Que remarquez vous ?\n",
    "2. Comparer dans le cas général. Que remarquez vous ?\n",
    "3. Quels sont les avantages et inconvénients des deux approches ?"
   ]
  },
  {
   "cell_type": "code",
   "execution_count": null,
   "metadata": {},
   "outputs": [],
   "source": [
    "# Expérimentations numériques à faire ici.\n",
    "# Vous pouvez utiliser le package Plots pour les affichages de courbes: using Plots"
   ]
  }
 ],
 "metadata": {
  "kernelspec": {
   "display_name": "Julia 1.11.2",
   "language": "julia",
   "name": "julia-1.11"
  },
  "language_info": {
   "file_extension": ".jl",
   "mimetype": "application/julia",
   "name": "julia",
   "version": "1.11.2"
  }
 },
 "nbformat": 4,
 "nbformat_minor": 4
}
