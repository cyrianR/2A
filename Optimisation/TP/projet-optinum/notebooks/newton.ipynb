{
 "cells": [
  {
   "cell_type": "markdown",
   "metadata": {},
   "source": [
    "<center>\n",
    "<h1> TP-Projet d'optimisation numérique </h1>\n",
    "<h1> Algorithme de Newton </h1>\n",
    "</center>"
   ]
  },
  {
   "cell_type": "markdown",
   "metadata": {},
   "source": [
    "## Implémentation \n",
    " \n",
    "1. Coder l’algorithme de Newton dans le fichier `src/newton.jl` en respectant la spécification donnée dans ce même fichier ;\n",
    "2. Exécuter les tests ci-dessous et vérifier qu'ils passent.\n",
    "\n",
    "Pour les tests, nous avons défini les fonctions suivantes $f_1 \\colon \\mathbb{R}^3 \\to \\mathbb{R}$\n",
    "et $f_2 \\colon \\mathbb{R}^2 \\to \\mathbb{R}$.\n",
    "\n",
    "$$\n",
    "    f_{1}(x_1, x_2, x_3) = 2 (x_1 +x_2 + x_3 -3)^2 + (x_1-x_2)^2 + (x_2 - x_3)^2\n",
    "$$\n",
    "et\n",
    "$$\n",
    "    f_{2}(x_1,x_2) = 100(x_2-x_1^2)^2 + (1-x_1)^2.\n",
    "$$\n",
    "\n",
    "**Remarque.** On peut retrouver ces fonctions dans le fichier `test/fonctions_de_tests.jl`."
   ]
  },
  {
   "cell_type": "code",
   "execution_count": 12,
   "metadata": {},
   "outputs": [
    {
     "name": "stdout",
     "output_type": "stream",
     "text": [
      "Affichage des résultats des algorithmes : false\n",
      "\n",
      "[1.999999999999999, 6.0, 11.999999999999996]\n",
      "[1.999999999999999, 6.0, 11.999999999999996]\n",
      "[23.633019348716857, 1506.366980651283]\n",
      "[0.3434637088097361, 1306.9291028863172]\n",
      "[148.8601540131986, 2021.9665558181496]\n",
      "[0.5991184682664255, 667.660820853795]\n",
      "[4.78333686745674, 1019.5944802215963]\n",
      "[0.3993635145916983, 1001.593749546143]\n",
      "[66.59485594947614, 120135.40514405051]\n",
      "[0.004988056834775989, 80194.79561490085]\n",
      "[195.14821168512822, 33201.571510732545]\n",
      "[0.3991282915031036, 1002.1840308388291]\n",
      "[0.39937135701197235, 1001.6006817602823]\n",
      "[-4.440892098500626e-16, 200.0]\n",
      "[-4.440892098500626e-16, 200.0]\n",
      "[66.66666666666669, 2.4338891524382005e34]\n",
      "exception: \u001b[91m\u001b[1mTest Failed\u001b[22m\u001b[39m at \u001b[39m\u001b[1m/home/crt4254/Documents/2A/Optimisation/TP/projet-optinum/test/tester_newton.jl:129\u001b[22m\n",
      "  Expression: (_, _, _, _) = newton(fct2, grad_fct2, hess_fct2, pts1.x023, max_iter = max_iter, tol_abs = tol_abs, tol_rel = tol_rel, epsilon = epsilon)\n",
      "    Expected: SingularException\n",
      "  No exception thrown\n",
      "Stacktrace:\n",
      " [1] \u001b[0m\u001b[1mmacro expansion\u001b[22m\n",
      "\u001b[90m   @ \u001b[39m\u001b[90m~/Documents/2A/Optimisation/TP/projet-optinum/test/\u001b[39m\u001b[90m\u001b[4mtester_newton.jl:129\u001b[24m\u001b[39m\u001b[90m [inlined]\u001b[39m\n",
      " [2] \u001b[0m\u001b[1mmacro expansion\u001b[22m\n",
      "\u001b[90m   @ \u001b[39m\u001b[90m/mnt/n7fs/ens/tp_cots/julia-1.8.2/share/julia/stdlib/v1.8/Test/src/\u001b[39m\u001b[90m\u001b[4mTest.jl:1357\u001b[24m\u001b[39m\u001b[90m [inlined]\u001b[39m\n",
      " [3] \u001b[0m\u001b[1mmacro expansion\u001b[22m\n",
      "\u001b[90m   @ \u001b[39m\u001b[90m~/Documents/2A/Optimisation/TP/projet-optinum/test/\u001b[39m\u001b[90m\u001b[4mtester_newton.jl:129\u001b[24m\u001b[39m\u001b[90m [inlined]\u001b[39m\n",
      " [4] \u001b[0m\u001b[1mmacro expansion\u001b[22m\n",
      "\u001b[90m   @ \u001b[39m\u001b[90m/mnt/n7fs/ens/tp_cots/julia-1.8.2/share/julia/stdlib/v1.8/Test/src/\u001b[39m\u001b[90m\u001b[4mTest.jl:1357\u001b[24m\u001b[39m\u001b[90m [inlined]\u001b[39m\n",
      " [5] \u001b[0m\u001b[1mmacro expansion\u001b[22m\n",
      "\u001b[90m   @ \u001b[39m\u001b[90m~/Documents/2A/Optimisation/TP/projet-optinum/test/\u001b[39m\u001b[90m\u001b[4mtester_newton.jl:114\u001b[24m\u001b[39m\u001b[90m [inlined]\u001b[39m\n",
      " [6] \u001b[0m\u001b[1mmacro expansion\u001b[22m\n",
      "\u001b[90m   @ \u001b[39m\u001b[90m/mnt/n7fs/ens/tp_cots/julia-1.8.2/share/julia/stdlib/v1.8/Test/src/\u001b[39m\u001b[90m\u001b[4mTest.jl:1357\u001b[24m\u001b[39m\u001b[90m [inlined]\u001b[39m\n",
      " [7] \u001b[0m\u001b[1mtester_newton\u001b[22m\u001b[0m\u001b[1m(\u001b[22m\u001b[90mnewton\u001b[39m::\u001b[0mtypeof(newton), \u001b[90mafficher\u001b[39m::\u001b[0mBool\u001b[0m\u001b[1m)\u001b[22m\n",
      "\u001b[90m   @ \u001b[39m\u001b[35mMain\u001b[39m \u001b[90m~/Documents/2A/Optimisation/TP/projet-optinum/test/\u001b[39m\u001b[90m\u001b[4mtester_newton.jl:33\u001b[24m\u001b[39m\n",
      "\u001b[0m\u001b[1mTest Summary:             | \u001b[22m\u001b[32m\u001b[1mPass  \u001b[22m\u001b[39m\u001b[91m\u001b[1mFail  \u001b[22m\u001b[39m\u001b[36m\u001b[1mTotal  \u001b[22m\u001b[39m\u001b[0m\u001b[1mTime\u001b[22m\n",
      "algorithme de Newton      | \u001b[32m  18  \u001b[39m\u001b[91m   1  \u001b[39m\u001b[36m   19  \u001b[39m\u001b[0m0.2s\n",
      "  test f1 : x0 = solution | \u001b[32m   3  \u001b[39m      \u001b[36m    3  \u001b[39m\u001b[0m0.1s\n",
      "  test f1 : x0 = x011     | \u001b[32m   3  \u001b[39m      \u001b[36m    3  \u001b[39m\u001b[0m0.0s\n",
      "  test f1 : x0 = x012     | \u001b[32m   3  \u001b[39m      \u001b[36m    3  \u001b[39m\u001b[0m0.1s\n",
      "  test f2 : x0 = x021     | \u001b[32m   3  \u001b[39m      \u001b[36m    3  \u001b[39m\u001b[0m0.0s\n",
      "  test f2 : x0 = x022     | \u001b[32m   3  \u001b[39m      \u001b[36m    3  \u001b[39m\u001b[0m0.0s\n",
      "  test f2 : x0 = x023     | \u001b[32m   3  \u001b[39m\u001b[91m   1  \u001b[39m\u001b[36m    4  \u001b[39m\u001b[0m0.0s\n",
      "    solution              | \u001b[32m   1  \u001b[39m      \u001b[36m    1  \u001b[39m\u001b[0m0.0s\n",
      "    flag                  | \u001b[32m   1  \u001b[39m      \u001b[36m    1  \u001b[39m\u001b[0m0.0s\n",
      "    itération             | \u001b[32m   1  \u001b[39m      \u001b[36m    1  \u001b[39m\u001b[0m0.0s\n",
      "    exception             |       \u001b[91m   1  \u001b[39m\u001b[36m    1  \u001b[39m\u001b[0m0.0s\n"
     ]
    },
    {
     "ename": "LoadError",
     "evalue": "\u001b[91mSome tests did not pass: 18 passed, 1 failed, 0 errored, 0 broken.\u001b[39m",
     "output_type": "error",
     "traceback": [
      "\u001b[91mSome tests did not pass: 18 passed, 1 failed, 0 errored, 0 broken.\u001b[39m",
      "",
      "Stacktrace:",
      " [1] finish(ts::Test.DefaultTestSet)",
      "   @ Test /mnt/n7fs/ens/tp_cots/julia-1.8.2/share/julia/stdlib/v1.8/Test/src/Test.jl:1092",
      " [2] macro expansion",
      "   @ /mnt/n7fs/ens/tp_cots/julia-1.8.2/share/julia/stdlib/v1.8/Test/src/Test.jl:1368 [inlined]",
      " [3] tester_newton(newton::typeof(newton), afficher::Bool)",
      "   @ Main ~/Documents/2A/Optimisation/TP/projet-optinum/test/tester_newton.jl:33",
      " [4] top-level scope",
      "   @ In[12]:8"
     ]
    }
   ],
   "source": [
    "include(\"../src/newton.jl\")         # votre algorithme de Newton\n",
    "include(\"../test/tester_newton.jl\") # la fonction pour tester votre algorithme de Newton\n",
    "\n",
    "#\n",
    "afficher = false # si true, alors affiche les résultats des algorithmes\n",
    "\n",
    "#\n",
    "tester_newton(newton, afficher); # tester l'algorithme de Newton"
   ]
  },
  {
   "cell_type": "code",
   "execution_count": null,
   "metadata": {},
   "outputs": [],
   "source": [
    "include(\"../src/newton.jl\") # votre algorithme de Newton\n",
    "include(\"../test/fonctions_de_tests.jl\") # pour avoir la fonction d'affichage des résultats\n",
    "\n",
    "# Fonction f0\n",
    "# -----------\n",
    "f0(x)      =  sin(x)\n",
    "grad_f0(x) =  cos(x) # la gradient de la fonction f0\n",
    "hess_f0(x) = -sin(x) # la hessienne de la fonction f0\n",
    "solution   = -pi/2\n",
    "\n",
    "x0 = solution\n",
    "x_sol, f_sol, flag, nb_iters = newton(f0, grad_f0, hess_f0, x0)\n",
    "afficher_resultats(\"Newton\", \"f0\", x0, x_sol, f_sol, flag, nb_iters, solution)\n",
    "\n",
    "x0 = -pi/2+0.5\n",
    "x_sol, f_sol, flag, nb_iters = newton(f0, grad_f0, hess_f0, x0)\n",
    "afficher_resultats(\"Newton\", \"f0\", x0, x_sol, f_sol, flag, nb_iters, solution)\n",
    "\n",
    "x0 = pi/2\n",
    "x_sol, f_sol, flag, nb_iters = newton(f0, grad_f0, hess_f0, x0)\n",
    "afficher_resultats(\"Newton\", \"f0\", x0, x_sol, f_sol, flag, nb_iters, solution)\n"
   ]
  },
  {
   "cell_type": "markdown",
   "metadata": {},
   "source": [
    "## Interprétation \n",
    "\n",
    "1. Justifier les résultats obtenus pour l'exemple $f_0$ ci-dessus;\n",
    "2. Justifier que l’algorithme implémenté converge en une itération pour $f_{1}$;\n",
    "3. Justifier que l’algorithme puisse ne pas converger pour $f_{2}$ avec certains points initiaux.\n",
    "\n",
    "**Remarque.** Vous pouvez mettre `affiche=true` dans les tests de l'algorithme de Newton pour\n",
    "vous aider.\n"
   ]
  },
  {
   "cell_type": "code",
   "execution_count": null,
   "metadata": {},
   "outputs": [],
   "source": []
  }
 ],
 "metadata": {
  "kernelspec": {
   "display_name": "Julia 1.8.2 - N7",
   "language": "julia",
   "name": "julia-1.8-n7"
  },
  "language_info": {
   "file_extension": ".jl",
   "mimetype": "application/julia",
   "name": "julia",
   "version": "1.8.2"
  }
 },
 "nbformat": 4,
 "nbformat_minor": 4
}
